{
 "cells": [
  {
   "cell_type": "markdown",
   "id": "8e6babef",
   "metadata": {},
   "source": [
    "# Linear model \n",
    "Tobias C. Haase \\\n",
    "Master's student of Psychology at [Goethe-University Frankfurt](https://www.goethe-university-frankfurt.de/en?locale=en)\n",
    "\n",
    "\n",
    "Dataset: [Abrupt hippocampal remapping signals resolution of memory interference](https://openneuro.org/datasets/ds003707/versions/1.0.0)\n",
    "\n",
    "\n",
    "Within the data exploration notebook, I outlined some information regarding the task design, the functional and structural data. This notebook will contain the development of the linear model as well as the results. \n",
    "\n",
    "Within the folder \"preprocessing attempts\" various attempts to preprocess the data are outlined. Preprocessing on my own device failed, thankfully I was able to preprocess most participants via [brainlife](https://brainlife.io/).\n",
    "\n",
    "These are the preprocessing and quality control pipelines used:\n",
    "\n",
    "Quality controle was performed using the [Magnetic Resoncance Imaging Quality Controle pipeline](https://mriqc.readthedocs.io/en/latest/) (22.0.6). \n",
    "\n",
    "The preprocessing was performed using [fMRI-Prep](https://fmriprep.org/en/stable/) (20.2.3)\n",
    "\n",
    "\n",
    "\n",
    "Fistly I will load a preprocessed image. Then, going from the previously explored event files, I will briefly mention the experimental paradigm again. These will then be used for a generalized linear model (GLM).\n",
    "\n",
    "I will first do the linear model for subject 6 to see if everything works (this subject was used as an example as it was the first participant with data for all runs).  "
   ]
  },
  {
   "cell_type": "code",
   "execution_count": 2,
   "id": "e705dcf4",
   "metadata": {},
   "outputs": [
    {
     "name": "stderr",
     "output_type": "stream",
     "text": [
      "/home/tchaase/miniconda3/envs/msc5neuro/lib/python3.7/site-packages/nilearn/__init__.py:69: FutureWarning: Python 3.7 support is deprecated and will be removed in release 0.12 of Nilearn. Consider switching to Python 3.9 or 3.10.\n",
      "  _python_deprecation_warnings()\n"
     ]
    }
   ],
   "source": [
    "#Import of things I need later:\n",
    "import os\n",
    "import numpy as np\n",
    "from nilearn.plotting import plot_stat_map, plot_anat, plot_img, show, plot_glass_brain;"
   ]
  },
  {
   "cell_type": "code",
   "execution_count": 3,
   "id": "4ead5068",
   "metadata": {},
   "outputs": [],
   "source": [
    "#File paths\n",
    "fmri_img_run1_sub6_path = '/home/tchaase/Documents/Universitaet/Forschungsmodul/project/data/outputs/fmri-prep_20.2.3-2/sub-06/sub-06_task-scene_run-01_desc-preproc_bold.nii.gz'\n",
    "anat__img_run1_sub6_path = '/home/tchaase/Documents/Universitaet/Forschungsmodul/project/data/outputs/fmri-prep_20.2.3-2/sub-06/sub-06_task-scene_run-01_desc-preproc_T1w.nii.gz'"
   ]
  },
  {
   "cell_type": "markdown",
   "id": "806e4967",
   "metadata": {},
   "source": [
    "I have now the file paths to the mri images. Now I still need the event files to define respective contrasts. \n"
   ]
  },
  {
   "cell_type": "code",
   "execution_count": 4,
   "id": "bd60b7b2",
   "metadata": {},
   "outputs": [
    {
     "data": {
      "text/html": [
       "<div>\n",
       "<style scoped>\n",
       "    .dataframe tbody tr th:only-of-type {\n",
       "        vertical-align: middle;\n",
       "    }\n",
       "\n",
       "    .dataframe tbody tr th {\n",
       "        vertical-align: top;\n",
       "    }\n",
       "\n",
       "    .dataframe thead th {\n",
       "        text-align: right;\n",
       "    }\n",
       "</style>\n",
       "<table border=\"1\" class=\"dataframe\">\n",
       "  <thead>\n",
       "    <tr style=\"text-align: right;\">\n",
       "      <th></th>\n",
       "      <th>onset</th>\n",
       "      <th>duration</th>\n",
       "      <th>correct</th>\n",
       "      <th>trial_type</th>\n",
       "      <th>response_time</th>\n",
       "    </tr>\n",
       "  </thead>\n",
       "  <tbody>\n",
       "    <tr>\n",
       "      <th>0</th>\n",
       "      <td>10</td>\n",
       "      <td>4</td>\n",
       "      <td>0.0</td>\n",
       "      <td>1_A9</td>\n",
       "      <td>NaN</td>\n",
       "    </tr>\n",
       "    <tr>\n",
       "      <th>1</th>\n",
       "      <td>14</td>\n",
       "      <td>4</td>\n",
       "      <td>1.0</td>\n",
       "      <td>1_A2</td>\n",
       "      <td>1.486898</td>\n",
       "    </tr>\n",
       "    <tr>\n",
       "      <th>2</th>\n",
       "      <td>18</td>\n",
       "      <td>4</td>\n",
       "      <td>1.0</td>\n",
       "      <td>1_A1</td>\n",
       "      <td>0.752162</td>\n",
       "    </tr>\n",
       "    <tr>\n",
       "      <th>3</th>\n",
       "      <td>22</td>\n",
       "      <td>4</td>\n",
       "      <td>1.0</td>\n",
       "      <td>1_B4</td>\n",
       "      <td>0.334689</td>\n",
       "    </tr>\n",
       "    <tr>\n",
       "      <th>4</th>\n",
       "      <td>26</td>\n",
       "      <td>4</td>\n",
       "      <td>1.0</td>\n",
       "      <td>1_B0</td>\n",
       "      <td>0.368064</td>\n",
       "    </tr>\n",
       "    <tr>\n",
       "      <th>...</th>\n",
       "      <td>...</td>\n",
       "      <td>...</td>\n",
       "      <td>...</td>\n",
       "      <td>...</td>\n",
       "      <td>...</td>\n",
       "    </tr>\n",
       "    <tr>\n",
       "      <th>73</th>\n",
       "      <td>324</td>\n",
       "      <td>4</td>\n",
       "      <td>0.0</td>\n",
       "      <td>2_B16</td>\n",
       "      <td>NaN</td>\n",
       "    </tr>\n",
       "    <tr>\n",
       "      <th>74</th>\n",
       "      <td>328</td>\n",
       "      <td>4</td>\n",
       "      <td>1.0</td>\n",
       "      <td>foil05</td>\n",
       "      <td>0.735685</td>\n",
       "    </tr>\n",
       "    <tr>\n",
       "      <th>75</th>\n",
       "      <td>332</td>\n",
       "      <td>4</td>\n",
       "      <td>1.0</td>\n",
       "      <td>2_A17</td>\n",
       "      <td>0.534958</td>\n",
       "    </tr>\n",
       "    <tr>\n",
       "      <th>76</th>\n",
       "      <td>336</td>\n",
       "      <td>4</td>\n",
       "      <td>1.0</td>\n",
       "      <td>foil03</td>\n",
       "      <td>0.785550</td>\n",
       "    </tr>\n",
       "    <tr>\n",
       "      <th>77</th>\n",
       "      <td>340</td>\n",
       "      <td>4</td>\n",
       "      <td>1.0</td>\n",
       "      <td>2_A3</td>\n",
       "      <td>1.085914</td>\n",
       "    </tr>\n",
       "  </tbody>\n",
       "</table>\n",
       "<p>78 rows × 5 columns</p>\n",
       "</div>"
      ],
      "text/plain": [
       "    onset  duration  correct trial_type  response_time\n",
       "0      10         4      0.0       1_A9            NaN\n",
       "1      14         4      1.0       1_A2       1.486898\n",
       "2      18         4      1.0       1_A1       0.752162\n",
       "3      22         4      1.0       1_B4       0.334689\n",
       "4      26         4      1.0       1_B0       0.368064\n",
       "..    ...       ...      ...        ...            ...\n",
       "73    324         4      0.0      2_B16            NaN\n",
       "74    328         4      1.0     foil05       0.735685\n",
       "75    332         4      1.0      2_A17       0.534958\n",
       "76    336         4      1.0     foil03       0.785550\n",
       "77    340         4      1.0       2_A3       1.085914\n",
       "\n",
       "[78 rows x 5 columns]"
      ]
     },
     "execution_count": 4,
     "metadata": {},
     "output_type": "execute_result"
    }
   ],
   "source": [
    "events_run1_sub6_path = '/home/tchaase/Documents/Universitaet/Forschungsmodul/project/data/ds003707/sub-06/func/sub-06_task-scene_run-01_events.tsv'\n",
    "\n",
    "import pandas as pd\n",
    "events_run1_sub6 = pd.read_table(events_run1_sub6_path)\n",
    "\n",
    "events_run1_sub6"
   ]
  },
  {
   "cell_type": "code",
   "execution_count": 5,
   "id": "16a30e7b",
   "metadata": {},
   "outputs": [
    {
     "name": "stderr",
     "output_type": "stream",
     "text": [
      "/home/tchaase/miniconda3/envs/msc5neuro/lib/python3.7/site-packages/ipykernel_launcher.py:3: SettingWithCopyWarning: \n",
      "A value is trying to be set on a copy of a slice from a DataFrame\n",
      "\n",
      "See the caveats in the documentation: https://pandas.pydata.org/pandas-docs/stable/user_guide/indexing.html#returning-a-view-versus-a-copy\n",
      "  This is separate from the ipykernel package so we can avoid doing imports until\n",
      "/home/tchaase/miniconda3/envs/msc5neuro/lib/python3.7/site-packages/IPython/core/interactiveshell.py:3552: SettingWithCopyWarning: \n",
      "A value is trying to be set on a copy of a slice from a DataFrame\n",
      "\n",
      "See the caveats in the documentation: https://pandas.pydata.org/pandas-docs/stable/user_guide/indexing.html#returning-a-view-versus-a-copy\n",
      "  exec(code_obj, self.user_global_ns, self.user_ns)\n",
      "/home/tchaase/miniconda3/envs/msc5neuro/lib/python3.7/site-packages/ipykernel_launcher.py:4: SettingWithCopyWarning: \n",
      "A value is trying to be set on a copy of a slice from a DataFrame\n",
      "\n",
      "See the caveats in the documentation: https://pandas.pydata.org/pandas-docs/stable/user_guide/indexing.html#returning-a-view-versus-a-copy\n",
      "  after removing the cwd from sys.path.\n"
     ]
    }
   ],
   "source": [
    "events_run1_sub6 = events_run1_sub6[[\"onset\", \"duration\", \"trial_type\"]]\n",
    "for i, row in events_run1_sub6.iterrows():\n",
    "    events_run1_sub6[\"trial_type\"][i] = events_run1_sub6[\"trial_type\"][i].replace('1_', 'Learned_')\n",
    "    events_run1_sub6[\"trial_type\"][i] = events_run1_sub6[\"trial_type\"][i].replace('2_', 'Learned_')\n"
   ]
  },
  {
   "cell_type": "markdown",
   "id": "0faca56b",
   "metadata": {},
   "source": [
    "Each trial has a certain onset, the same duration and then the response is either correct or not correct. \n",
    "We also see that there is a certain response time - if this is failed the trial is listed to be `0.0` i.e. not correct. \n",
    "\n",
    "\n",
    "Now, lets generate a design matrix with these event files. Recall that a 'design matrix' is a matrix that contains the explanatory variables. Here, the explanatory variables also involes the regressors that are the result of the previously mentioned pipelines!\n",
    "\n",
    "First, before I can generate a `FirstLevelModel`, I need to extract the repetion time."
   ]
  },
  {
   "cell_type": "code",
   "execution_count": 6,
   "id": "8a9fbd76",
   "metadata": {},
   "outputs": [
    {
     "data": {
      "text/plain": [
       "2.0"
      ]
     },
     "execution_count": 6,
     "metadata": {},
     "output_type": "execute_result"
    }
   ],
   "source": [
    "from nilearn.glm.first_level import FirstLevelModel\n",
    "\n",
    "#Now I need the TR and other parameters. I previously extracted them using the 'pybids module! Here I will take also show a different attempt:\n",
    "\n",
    "import nibabel as nib ;\n",
    "\n",
    "fmri_img_run1_sub6 = nib.load(fmri_img_run1_sub6_path);\n",
    "#The get_zooms function contains voxel size with the 4th entry being the time, this is therefore the repetiton time!\n",
    "fmri_img_run1_sub6.header.get_zooms()[3]"
   ]
  },
  {
   "cell_type": "markdown",
   "id": "c4cfd5ce",
   "metadata": {},
   "source": [
    "Knowing the repition time, we can set up the `FirstLevelModel`.\n",
    "\n",
    "Briefly explained, I understand a first level model as a first step used to generate the linear models later - there are certain things like the haemondynamic response that needs to be modelled, which will be done in this first step!\n",
    "\n",
    "Here is an explanation on the parameters:\n",
    "- `T_r` refers to the repetion time, this was extracted above. \n",
    "- `Drift mode`: It's a `cosine functio` that aims to remove effects of heart rate etc. The standard setting here is 1/128 Hz. In the design matrix this will end up as a column with almost no change in color, only very slight drift!\n",
    "- The `hrf-model` part specifies the`hemodynamic response model`: The event file has certain events, but this needs to be converted into a [\"reference BOLD signal for the design matrix\"](https://nilearn.github.io/dev/auto_examples/04_glm_first_level/plot_first_level_details.html). Here the basic wasn't choosen, but the `spm`. This stands for statistical parametric map. In contrast to the basic the undershoot following the haemondynamic response is said to be weaker here.\n",
    "- Fruthermore, a `high pass filte` can be applied. The high pass filter will let [higher frequencies pass](https://www.brainvoyager.com/bv/doc/UsersGuide/Preprocessing/TemporalHighPassFiltering.html), the cut-off here is set to another value than the standard! What does this mean? I will have an additional confound with the lower frequencies, them being included in the model instead of them being removed!\n",
    "&nbsp;\n",
    "\n",
    "\n",
    "- `noise_model`: There are different options for noise models. The `ar1` is the preset noise model. A ordinary least squared approach, autoregressive approaches of higher order or other models could have been used. \n",
    "&nbsp;\n",
    "\n",
    "\n",
    "- I don't want the signal to be scaled, so this is set to false!"
   ]
  },
  {
   "cell_type": "code",
   "execution_count": 7,
   "id": "1f8bf765",
   "metadata": {},
   "outputs": [],
   "source": [
    "fmri_glm_run1_sub6 = FirstLevelModel(t_r=2.0,\n",
    "                           noise_model='ar1',\n",
    "                           hrf_model='spm',\n",
    "                           drift_model='cosine',\n",
    "                           high_pass=1./128,\n",
    "                           signal_scaling=False,\n",
    "                           minimize_memory =  False)"
   ]
  },
  {
   "cell_type": "markdown",
   "id": "e3373979",
   "metadata": {},
   "source": [
    "This model still lacks the confounds."
   ]
  },
  {
   "cell_type": "code",
   "execution_count": 8,
   "id": "0a90560f",
   "metadata": {},
   "outputs": [
    {
     "data": {
      "text/plain": [
       "['global_signal',\n",
       " 'global_signal_derivative1',\n",
       " 'global_signal_power2',\n",
       " 'global_signal_derivative1_power2',\n",
       " 'csf',\n",
       " 'csf_derivative1',\n",
       " 'csf_derivative1_power2',\n",
       " 'csf_power2',\n",
       " 'white_matter',\n",
       " 'white_matter_derivative1',\n",
       " 'white_matter_power2',\n",
       " 'white_matter_derivative1_power2',\n",
       " 'csf_wm',\n",
       " 'tcompcor',\n",
       " 'std_dvars',\n",
       " 'dvars',\n",
       " 'framewise_displacement',\n",
       " 'rmsd',\n",
       " 't_comp_cor_00',\n",
       " 't_comp_cor_01',\n",
       " 't_comp_cor_02',\n",
       " 't_comp_cor_03',\n",
       " 't_comp_cor_04',\n",
       " 't_comp_cor_05',\n",
       " 't_comp_cor_06',\n",
       " 't_comp_cor_07',\n",
       " 't_comp_cor_08',\n",
       " 't_comp_cor_09',\n",
       " 't_comp_cor_10',\n",
       " 't_comp_cor_11',\n",
       " 't_comp_cor_12',\n",
       " 't_comp_cor_13',\n",
       " 'a_comp_cor_00',\n",
       " 'a_comp_cor_01',\n",
       " 'a_comp_cor_02',\n",
       " 'a_comp_cor_03',\n",
       " 'a_comp_cor_04',\n",
       " 'a_comp_cor_05',\n",
       " 'a_comp_cor_06',\n",
       " 'a_comp_cor_07',\n",
       " 'a_comp_cor_08',\n",
       " 'a_comp_cor_09',\n",
       " 'a_comp_cor_10',\n",
       " 'a_comp_cor_11',\n",
       " 'a_comp_cor_12',\n",
       " 'a_comp_cor_13',\n",
       " 'a_comp_cor_14',\n",
       " 'a_comp_cor_15',\n",
       " 'a_comp_cor_16',\n",
       " 'a_comp_cor_17',\n",
       " 'a_comp_cor_18',\n",
       " 'a_comp_cor_19',\n",
       " 'a_comp_cor_20',\n",
       " 'a_comp_cor_21',\n",
       " 'a_comp_cor_22',\n",
       " 'a_comp_cor_23',\n",
       " 'a_comp_cor_24',\n",
       " 'a_comp_cor_25',\n",
       " 'a_comp_cor_26',\n",
       " 'a_comp_cor_27',\n",
       " 'a_comp_cor_28',\n",
       " 'a_comp_cor_29',\n",
       " 'a_comp_cor_30',\n",
       " 'a_comp_cor_31',\n",
       " 'a_comp_cor_32',\n",
       " 'a_comp_cor_33',\n",
       " 'a_comp_cor_34',\n",
       " 'a_comp_cor_35',\n",
       " 'a_comp_cor_36',\n",
       " 'a_comp_cor_37',\n",
       " 'a_comp_cor_38',\n",
       " 'a_comp_cor_39',\n",
       " 'a_comp_cor_40',\n",
       " 'a_comp_cor_41',\n",
       " 'a_comp_cor_42',\n",
       " 'a_comp_cor_43',\n",
       " 'a_comp_cor_44',\n",
       " 'a_comp_cor_45',\n",
       " 'a_comp_cor_46',\n",
       " 'a_comp_cor_47',\n",
       " 'a_comp_cor_48',\n",
       " 'a_comp_cor_49',\n",
       " 'a_comp_cor_50',\n",
       " 'a_comp_cor_51',\n",
       " 'a_comp_cor_52',\n",
       " 'a_comp_cor_53',\n",
       " 'a_comp_cor_54',\n",
       " 'a_comp_cor_55',\n",
       " 'a_comp_cor_56',\n",
       " 'a_comp_cor_57',\n",
       " 'a_comp_cor_58',\n",
       " 'a_comp_cor_59',\n",
       " 'a_comp_cor_60',\n",
       " 'a_comp_cor_61',\n",
       " 'a_comp_cor_62',\n",
       " 'a_comp_cor_63',\n",
       " 'a_comp_cor_64',\n",
       " 'a_comp_cor_65',\n",
       " 'a_comp_cor_66',\n",
       " 'a_comp_cor_67',\n",
       " 'a_comp_cor_68',\n",
       " 'a_comp_cor_69',\n",
       " 'a_comp_cor_70',\n",
       " 'a_comp_cor_71',\n",
       " 'a_comp_cor_72',\n",
       " 'a_comp_cor_73',\n",
       " 'a_comp_cor_74',\n",
       " 'a_comp_cor_75',\n",
       " 'a_comp_cor_76',\n",
       " 'a_comp_cor_77',\n",
       " 'a_comp_cor_78',\n",
       " 'a_comp_cor_79',\n",
       " 'a_comp_cor_80',\n",
       " 'a_comp_cor_81',\n",
       " 'a_comp_cor_82',\n",
       " 'a_comp_cor_83',\n",
       " 'a_comp_cor_84',\n",
       " 'a_comp_cor_85',\n",
       " 'a_comp_cor_86',\n",
       " 'a_comp_cor_87',\n",
       " 'a_comp_cor_88',\n",
       " 'a_comp_cor_89',\n",
       " 'a_comp_cor_90',\n",
       " 'a_comp_cor_91',\n",
       " 'a_comp_cor_92',\n",
       " 'a_comp_cor_93',\n",
       " 'a_comp_cor_94',\n",
       " 'a_comp_cor_95',\n",
       " 'a_comp_cor_96',\n",
       " 'a_comp_cor_97',\n",
       " 'a_comp_cor_98',\n",
       " 'a_comp_cor_99',\n",
       " 'a_comp_cor_100',\n",
       " 'a_comp_cor_101',\n",
       " 'a_comp_cor_102',\n",
       " 'a_comp_cor_103',\n",
       " 'a_comp_cor_104',\n",
       " 'a_comp_cor_105',\n",
       " 'a_comp_cor_106',\n",
       " 'a_comp_cor_107',\n",
       " 'a_comp_cor_108',\n",
       " 'a_comp_cor_109',\n",
       " 'a_comp_cor_110',\n",
       " 'a_comp_cor_111',\n",
       " 'a_comp_cor_112',\n",
       " 'a_comp_cor_113',\n",
       " 'a_comp_cor_114',\n",
       " 'a_comp_cor_115',\n",
       " 'a_comp_cor_116',\n",
       " 'a_comp_cor_117',\n",
       " 'a_comp_cor_118',\n",
       " 'a_comp_cor_119',\n",
       " 'a_comp_cor_120',\n",
       " 'a_comp_cor_121',\n",
       " 'a_comp_cor_122',\n",
       " 'a_comp_cor_123',\n",
       " 'a_comp_cor_124',\n",
       " 'a_comp_cor_125',\n",
       " 'a_comp_cor_126',\n",
       " 'a_comp_cor_127',\n",
       " 'a_comp_cor_128',\n",
       " 'a_comp_cor_129',\n",
       " 'a_comp_cor_130',\n",
       " 'a_comp_cor_131',\n",
       " 'a_comp_cor_132',\n",
       " 'a_comp_cor_133',\n",
       " 'a_comp_cor_134',\n",
       " 'a_comp_cor_135',\n",
       " 'a_comp_cor_136',\n",
       " 'a_comp_cor_137',\n",
       " 'a_comp_cor_138',\n",
       " 'a_comp_cor_139',\n",
       " 'a_comp_cor_140',\n",
       " 'a_comp_cor_141',\n",
       " 'a_comp_cor_142',\n",
       " 'a_comp_cor_143',\n",
       " 'a_comp_cor_144',\n",
       " 'a_comp_cor_145',\n",
       " 'a_comp_cor_146',\n",
       " 'a_comp_cor_147',\n",
       " 'a_comp_cor_148',\n",
       " 'a_comp_cor_149',\n",
       " 'a_comp_cor_150',\n",
       " 'a_comp_cor_151',\n",
       " 'a_comp_cor_152',\n",
       " 'a_comp_cor_153',\n",
       " 'a_comp_cor_154',\n",
       " 'a_comp_cor_155',\n",
       " 'a_comp_cor_156',\n",
       " 'a_comp_cor_157',\n",
       " 'a_comp_cor_158',\n",
       " 'a_comp_cor_159',\n",
       " 'a_comp_cor_160',\n",
       " 'a_comp_cor_161',\n",
       " 'a_comp_cor_162',\n",
       " 'a_comp_cor_163',\n",
       " 'a_comp_cor_164',\n",
       " 'a_comp_cor_165',\n",
       " 'a_comp_cor_166',\n",
       " 'a_comp_cor_167',\n",
       " 'a_comp_cor_168',\n",
       " 'a_comp_cor_169',\n",
       " 'a_comp_cor_170',\n",
       " 'a_comp_cor_171',\n",
       " 'a_comp_cor_172',\n",
       " 'a_comp_cor_173',\n",
       " 'a_comp_cor_174',\n",
       " 'a_comp_cor_175',\n",
       " 'a_comp_cor_176',\n",
       " 'a_comp_cor_177',\n",
       " 'a_comp_cor_178',\n",
       " 'a_comp_cor_179',\n",
       " 'a_comp_cor_180',\n",
       " 'a_comp_cor_181',\n",
       " 'a_comp_cor_182',\n",
       " 'a_comp_cor_183',\n",
       " 'a_comp_cor_184',\n",
       " 'a_comp_cor_185',\n",
       " 'a_comp_cor_186',\n",
       " 'a_comp_cor_187',\n",
       " 'a_comp_cor_188',\n",
       " 'a_comp_cor_189',\n",
       " 'a_comp_cor_190',\n",
       " 'a_comp_cor_191',\n",
       " 'cosine00',\n",
       " 'cosine01',\n",
       " 'cosine02',\n",
       " 'cosine03',\n",
       " 'trans_x',\n",
       " 'trans_x_derivative1',\n",
       " 'trans_x_power2',\n",
       " 'trans_x_derivative1_power2',\n",
       " 'trans_y',\n",
       " 'trans_y_derivative1',\n",
       " 'trans_y_power2',\n",
       " 'trans_y_derivative1_power2',\n",
       " 'trans_z',\n",
       " 'trans_z_derivative1',\n",
       " 'trans_z_derivative1_power2',\n",
       " 'trans_z_power2',\n",
       " 'rot_x',\n",
       " 'rot_x_derivative1',\n",
       " 'rot_x_power2',\n",
       " 'rot_x_derivative1_power2',\n",
       " 'rot_y',\n",
       " 'rot_y_derivative1',\n",
       " 'rot_y_derivative1_power2',\n",
       " 'rot_y_power2',\n",
       " 'rot_z',\n",
       " 'rot_z_derivative1',\n",
       " 'rot_z_power2',\n",
       " 'rot_z_derivative1_power2',\n",
       " 'aroma_motion_01',\n",
       " 'aroma_motion_02',\n",
       " 'aroma_motion_03',\n",
       " 'aroma_motion_04',\n",
       " 'aroma_motion_06',\n",
       " 'aroma_motion_10',\n",
       " 'aroma_motion_15',\n",
       " 'aroma_motion_18',\n",
       " 'aroma_motion_20',\n",
       " 'aroma_motion_21',\n",
       " 'aroma_motion_22',\n",
       " 'aroma_motion_23']"
      ]
     },
     "execution_count": 8,
     "metadata": {},
     "output_type": "execute_result"
    }
   ],
   "source": [
    "import pandas as pd\n",
    "import numpy as np\n",
    "confounds_run1_sub6 = pd.read_csv('/home/tchaase/Documents/Universitaet/Forschungsmodul/project/data/outputs/fmri-prep_20.2.3-2/sub-06/sub-06_task-scene_run-01_desc-confounds.tsv', \n",
    "                                  delimiter = '\\t')\n",
    "#The delimiter needs to be set to \\t as it uses tab to differentiate different entries. \n",
    "\n",
    "column_names = list(confounds_run1_sub6.columns.values)\n",
    "column_names"
   ]
  },
  {
   "cell_type": "markdown",
   "id": "6196380d",
   "metadata": {},
   "source": [
    "Only a portion of the entries are needed here. \n",
    "\n",
    "The following are extracted, following the recommedation from the [fmriprep-doc](https://fmriprep.org/en/stable/outputs.html#confounds). \n",
    "- The parameters of head motion, i.e. the transverse and rotational movements. `trans_x`, `trans_y`, `trans_z`, `rot_x`, `rot_y`, `rot_z`.\n",
    "\n",
    "&nbsp;\n",
    "The following three are copy-pastad from said website:\n",
    "- `csf - the average signal within anatomically-derived eroded CSF mask`\n",
    "- `white_matter - the average signal within the anatomically-derived eroded WM masks`\n",
    "-  `global_signal - the average signal within the brain mask`\n",
    "\n",
    "- the rmsd - this also takes head motion into account but using a different statistical approach.\n",
    "- framewise_displacement - another classic measure of movement. \n",
    "\n",
    "As a high-pass filter is included, I will not include regressors for signal drift. "
   ]
  },
  {
   "cell_type": "code",
   "execution_count": 9,
   "id": "1318e278",
   "metadata": {},
   "outputs": [
    {
     "data": {
      "text/html": [
       "<div>\n",
       "<style scoped>\n",
       "    .dataframe tbody tr th:only-of-type {\n",
       "        vertical-align: middle;\n",
       "    }\n",
       "\n",
       "    .dataframe tbody tr th {\n",
       "        vertical-align: top;\n",
       "    }\n",
       "\n",
       "    .dataframe thead th {\n",
       "        text-align: right;\n",
       "    }\n",
       "</style>\n",
       "<table border=\"1\" class=\"dataframe\">\n",
       "  <thead>\n",
       "    <tr style=\"text-align: right;\">\n",
       "      <th></th>\n",
       "      <th>white_matter</th>\n",
       "      <th>global_signal</th>\n",
       "      <th>framewise_displacement</th>\n",
       "      <th>csf</th>\n",
       "      <th>trans_x</th>\n",
       "      <th>trans_y</th>\n",
       "      <th>trans_z</th>\n",
       "      <th>rot_x</th>\n",
       "      <th>rot_y</th>\n",
       "      <th>rot_z</th>\n",
       "      <th>rmsd</th>\n",
       "    </tr>\n",
       "  </thead>\n",
       "  <tbody>\n",
       "    <tr>\n",
       "      <th>0</th>\n",
       "      <td>5975.756217</td>\n",
       "      <td>6126.668641</td>\n",
       "      <td>0.000000</td>\n",
       "      <td>10444.063602</td>\n",
       "      <td>0.034271</td>\n",
       "      <td>-0.011028</td>\n",
       "      <td>0.033954</td>\n",
       "      <td>-9.374490e-05</td>\n",
       "      <td>-0.000297</td>\n",
       "      <td>0.000453</td>\n",
       "      <td>0.000000</td>\n",
       "    </tr>\n",
       "    <tr>\n",
       "      <th>1</th>\n",
       "      <td>5978.942933</td>\n",
       "      <td>6126.743570</td>\n",
       "      <td>0.025447</td>\n",
       "      <td>10346.109765</td>\n",
       "      <td>0.027841</td>\n",
       "      <td>-0.012104</td>\n",
       "      <td>0.039323</td>\n",
       "      <td>-1.323490e-23</td>\n",
       "      <td>-0.000346</td>\n",
       "      <td>0.000343</td>\n",
       "      <td>0.011883</td>\n",
       "    </tr>\n",
       "    <tr>\n",
       "      <th>2</th>\n",
       "      <td>5980.483029</td>\n",
       "      <td>6132.032324</td>\n",
       "      <td>0.033753</td>\n",
       "      <td>10362.884937</td>\n",
       "      <td>0.033482</td>\n",
       "      <td>-0.003517</td>\n",
       "      <td>0.024437</td>\n",
       "      <td>0.000000e+00</td>\n",
       "      <td>-0.000337</td>\n",
       "      <td>0.000259</td>\n",
       "      <td>0.018279</td>\n",
       "    </tr>\n",
       "    <tr>\n",
       "      <th>3</th>\n",
       "      <td>5978.650057</td>\n",
       "      <td>6129.665218</td>\n",
       "      <td>0.036861</td>\n",
       "      <td>10217.434957</td>\n",
       "      <td>0.028032</td>\n",
       "      <td>0.007799</td>\n",
       "      <td>0.031598</td>\n",
       "      <td>-1.201740e-04</td>\n",
       "      <td>-0.000375</td>\n",
       "      <td>0.000158</td>\n",
       "      <td>0.017710</td>\n",
       "    </tr>\n",
       "    <tr>\n",
       "      <th>4</th>\n",
       "      <td>5976.735798</td>\n",
       "      <td>6126.883741</td>\n",
       "      <td>0.042074</td>\n",
       "      <td>10232.444192</td>\n",
       "      <td>0.025611</td>\n",
       "      <td>-0.012633</td>\n",
       "      <td>0.035864</td>\n",
       "      <td>-2.646980e-23</td>\n",
       "      <td>-0.000372</td>\n",
       "      <td>0.000334</td>\n",
       "      <td>0.023282</td>\n",
       "    </tr>\n",
       "    <tr>\n",
       "      <th>...</th>\n",
       "      <td>...</td>\n",
       "      <td>...</td>\n",
       "      <td>...</td>\n",
       "      <td>...</td>\n",
       "      <td>...</td>\n",
       "      <td>...</td>\n",
       "      <td>...</td>\n",
       "      <td>...</td>\n",
       "      <td>...</td>\n",
       "      <td>...</td>\n",
       "      <td>...</td>\n",
       "    </tr>\n",
       "    <tr>\n",
       "      <th>172</th>\n",
       "      <td>5967.351326</td>\n",
       "      <td>6132.775404</td>\n",
       "      <td>0.052491</td>\n",
       "      <td>10434.865707</td>\n",
       "      <td>-0.027287</td>\n",
       "      <td>0.028218</td>\n",
       "      <td>-0.022084</td>\n",
       "      <td>-1.446660e-04</td>\n",
       "      <td>-0.001686</td>\n",
       "      <td>-0.000312</td>\n",
       "      <td>0.027091</td>\n",
       "    </tr>\n",
       "    <tr>\n",
       "      <th>173</th>\n",
       "      <td>5968.436398</td>\n",
       "      <td>6133.940994</td>\n",
       "      <td>0.070713</td>\n",
       "      <td>10374.021769</td>\n",
       "      <td>-0.025793</td>\n",
       "      <td>0.058979</td>\n",
       "      <td>-0.031075</td>\n",
       "      <td>-5.428840e-04</td>\n",
       "      <td>-0.001758</td>\n",
       "      <td>-0.000193</td>\n",
       "      <td>0.038925</td>\n",
       "    </tr>\n",
       "    <tr>\n",
       "      <th>174</th>\n",
       "      <td>5971.929799</td>\n",
       "      <td>6125.377610</td>\n",
       "      <td>0.017491</td>\n",
       "      <td>10288.476298</td>\n",
       "      <td>-0.022662</td>\n",
       "      <td>0.057221</td>\n",
       "      <td>-0.036650</td>\n",
       "      <td>-5.242960e-04</td>\n",
       "      <td>-0.001830</td>\n",
       "      <td>-0.000142</td>\n",
       "      <td>0.008184</td>\n",
       "    </tr>\n",
       "    <tr>\n",
       "      <th>175</th>\n",
       "      <td>5971.281566</td>\n",
       "      <td>6122.549079</td>\n",
       "      <td>0.064655</td>\n",
       "      <td>10343.196182</td>\n",
       "      <td>-0.020640</td>\n",
       "      <td>0.030443</td>\n",
       "      <td>-0.018628</td>\n",
       "      <td>-3.507080e-04</td>\n",
       "      <td>-0.001647</td>\n",
       "      <td>-0.000142</td>\n",
       "      <td>0.034101</td>\n",
       "    </tr>\n",
       "    <tr>\n",
       "      <th>176</th>\n",
       "      <td>5967.123271</td>\n",
       "      <td>6117.814526</td>\n",
       "      <td>0.038538</td>\n",
       "      <td>10333.588638</td>\n",
       "      <td>-0.020494</td>\n",
       "      <td>0.048951</td>\n",
       "      <td>-0.028629</td>\n",
       "      <td>-4.438880e-04</td>\n",
       "      <td>-0.001578</td>\n",
       "      <td>-0.000177</td>\n",
       "      <td>0.021712</td>\n",
       "    </tr>\n",
       "  </tbody>\n",
       "</table>\n",
       "<p>177 rows × 11 columns</p>\n",
       "</div>"
      ],
      "text/plain": [
       "     white_matter  global_signal  framewise_displacement           csf  \\\n",
       "0     5975.756217    6126.668641                0.000000  10444.063602   \n",
       "1     5978.942933    6126.743570                0.025447  10346.109765   \n",
       "2     5980.483029    6132.032324                0.033753  10362.884937   \n",
       "3     5978.650057    6129.665218                0.036861  10217.434957   \n",
       "4     5976.735798    6126.883741                0.042074  10232.444192   \n",
       "..            ...            ...                     ...           ...   \n",
       "172   5967.351326    6132.775404                0.052491  10434.865707   \n",
       "173   5968.436398    6133.940994                0.070713  10374.021769   \n",
       "174   5971.929799    6125.377610                0.017491  10288.476298   \n",
       "175   5971.281566    6122.549079                0.064655  10343.196182   \n",
       "176   5967.123271    6117.814526                0.038538  10333.588638   \n",
       "\n",
       "      trans_x   trans_y   trans_z         rot_x     rot_y     rot_z      rmsd  \n",
       "0    0.034271 -0.011028  0.033954 -9.374490e-05 -0.000297  0.000453  0.000000  \n",
       "1    0.027841 -0.012104  0.039323 -1.323490e-23 -0.000346  0.000343  0.011883  \n",
       "2    0.033482 -0.003517  0.024437  0.000000e+00 -0.000337  0.000259  0.018279  \n",
       "3    0.028032  0.007799  0.031598 -1.201740e-04 -0.000375  0.000158  0.017710  \n",
       "4    0.025611 -0.012633  0.035864 -2.646980e-23 -0.000372  0.000334  0.023282  \n",
       "..        ...       ...       ...           ...       ...       ...       ...  \n",
       "172 -0.027287  0.028218 -0.022084 -1.446660e-04 -0.001686 -0.000312  0.027091  \n",
       "173 -0.025793  0.058979 -0.031075 -5.428840e-04 -0.001758 -0.000193  0.038925  \n",
       "174 -0.022662  0.057221 -0.036650 -5.242960e-04 -0.001830 -0.000142  0.008184  \n",
       "175 -0.020640  0.030443 -0.018628 -3.507080e-04 -0.001647 -0.000142  0.034101  \n",
       "176 -0.020494  0.048951 -0.028629 -4.438880e-04 -0.001578 -0.000177  0.021712  \n",
       "\n",
       "[177 rows x 11 columns]"
      ]
     },
     "execution_count": 9,
     "metadata": {},
     "output_type": "execute_result"
    }
   ],
   "source": [
    "confounds_glm_run1_sub6 = confounds_run1_sub6[['white_matter', 'global_signal', 'framewise_displacement','csf', 'trans_x', 'trans_y', 'trans_z', 'rot_x', 'rot_y', 'rot_z', 'rmsd']].replace(np.nan, 0)\n",
    "confounds_glm_run1_sub6"
   ]
  },
  {
   "cell_type": "markdown",
   "id": "682809d2",
   "metadata": {},
   "source": [
    "I have now specified the confounds I will need. Before I can run the model, I need to create a sample mask to remove the first 10 seconds!"
   ]
  },
  {
   "cell_type": "code",
   "execution_count": 15,
   "id": "d4c4b7da",
   "metadata": {},
   "outputs": [
    {
     "data": {
      "text/plain": [
       "array([  5,   6,   7,   8,   9,  10,  11,  12,  13,  14,  15,  16,  17,\n",
       "        18,  19,  20,  21,  22,  23,  24,  25,  26,  27,  28,  29,  30,\n",
       "        31,  32,  33,  34,  35,  36,  37,  38,  39,  40,  41,  42,  43,\n",
       "        44,  45,  46,  47,  48,  49,  50,  51,  52,  53,  54,  55,  56,\n",
       "        57,  58,  59,  60,  61,  62,  63,  64,  65,  66,  67,  68,  69,\n",
       "        70,  71,  72,  73,  74,  75,  76,  77,  78,  79,  80,  81,  82,\n",
       "        83,  84,  85,  86,  87,  88,  89,  90,  91,  92,  93,  94,  95,\n",
       "        96,  97,  98,  99, 100, 101, 102, 103, 104, 105, 106, 107, 108,\n",
       "       109, 110, 111, 112, 113, 114, 115, 116, 117, 118, 119, 120, 121,\n",
       "       122, 123, 124, 125, 126, 127, 128, 129, 130, 131, 132, 133, 134,\n",
       "       135, 136, 137, 138, 139, 140, 141, 142, 143, 144, 145, 146, 147,\n",
       "       148, 149, 150, 151, 152, 153, 154, 155, 156, 157, 158, 159, 160,\n",
       "       161, 162, 163, 164, 165, 166, 167, 168, 169, 170, 171, 172, 173,\n",
       "       174, 175, 176])"
      ]
     },
     "execution_count": 15,
     "metadata": {},
     "output_type": "execute_result"
    }
   ],
   "source": [
    "import nilearn.image as nli\n",
    "\n",
    "#Loading the image to get the amount of volumes.\n",
    "sub06_run1_bold = nli.load_img('/home/tchaase/Documents/Universitaet/Forschungsmodul/project/data/outputs/fmri-prep_20.2.3-2/sub-06/sub-06_task-scene_run-01_desc-preproc_bold.nii.gz')\n",
    "sample_masks = np.arange((sub06_run1_bold.get_fdata().shape[3]))[5:]  \n",
    "#creating an array with the amount entries equaling volumes except the first 10 seconds / 5 volumes. \n",
    "sample_masks"
   ]
  },
  {
   "cell_type": "markdown",
   "id": "adf7dc96",
   "metadata": {},
   "source": [
    "Now lets run the model!"
   ]
  },
  {
   "cell_type": "code",
   "execution_count": null,
   "id": "0b4bb83d",
   "metadata": {},
   "outputs": [],
   "source": [
    "fmri_glm_run1_sub6 = fmri_glm_run1_sub6.fit(fmri_img_run1_sub6_path, events = events_run1_sub6, \\\n",
    "                                          sample_masks = sample_masks, \\\n",
    "                                          confounds = confounds_glm_run1_sub6)"
   ]
  },
  {
   "cell_type": "code",
   "execution_count": null,
   "id": "3cec49ea",
   "metadata": {},
   "outputs": [],
   "source": [
    "design_matrix = fmri_glm_run1_sub6.design_matrices_[0]\n",
    "\n",
    "from nilearn.plotting import plot_design_matrix\n",
    "plot_design_matrix(design_matrix)\n",
    "import matplotlib.pyplot as plt\n",
    "plt.show()"
   ]
  },
  {
   "cell_type": "markdown",
   "id": "c2711d2b",
   "metadata": {},
   "source": [
    "There was 36 objects or scenes. Each was repeated twice per run. There were 18 object scene pairmates as explained in the data exploration. \n",
    "\n",
    "Let's save this design matrix!"
   ]
  },
  {
   "cell_type": "code",
   "execution_count": 40,
   "id": "0a0d0485",
   "metadata": {},
   "outputs": [],
   "source": [
    "outdir = 'results'\n",
    "os.chdir(\"/home/tchaase/Documents/Universitaet/Forschungsmodul/project/data/outputs/design_matrizes/\")\n",
    "if not os.path.exists(outdir):\n",
    "    os.mkdir(outdir)\n",
    "\n",
    "from os.path import join\n",
    "plot_design_matrix(design_matrix, output_file=join(outdir, 'design_matrix.png'))"
   ]
  },
  {
   "cell_type": "markdown",
   "id": "790a60e7",
   "metadata": {},
   "source": [
    "To ensure this works, I want to inspect the expected response for a random item. "
   ]
  },
  {
   "cell_type": "code",
   "execution_count": 54,
   "id": "b491c87e",
   "metadata": {},
   "outputs": [
    {
     "data": {
      "image/png": "[encoded data removed]",
      "text/plain": [
       "<Figure size 640x480 with 1 Axes>"
      ]
     },
     "metadata": {},
     "output_type": "display_data"
    }
   ],
   "source": [
    "plt.plot(design_matrix['A2']) \n",
    "plt.xlabel('scan')\n",
    "plt.title('Expected Response for Image A2')\n",
    "plt.show()"
   ]
  },
  {
   "cell_type": "markdown",
   "id": "928d3616",
   "metadata": {},
   "source": [
    "Thus far everything seems to work as intended. \n",
    "\n",
    "Now I want to identify voxels that have significant effects within the next section.\n",
    "\n",
    "### Detection of Significant Voxels\n",
    "\n",
    "Firstly, I will need to get the betas for every voxel. To achieve this, I need to first get the contrasts. These will require some data wrangling, which will be done in the following. "
   ]
  },
  {
   "cell_type": "code",
   "execution_count": 157,
   "id": "719ffc48",
   "metadata": {},
   "outputs": [],
   "source": [
    "from numpy import array\n",
    "array_learned = np.array([0]*design_matrix.shape[0])\n",
    "                            \n",
    "conditions = {\n",
    "    'active - Learned': np.array([0]*design_matrix.shape[1]),\n",
    "    'active - Foil':   np.array([0]*design_matrix.shape[1]),\n",
    "}"
   ]
  },
  {
   "cell_type": "code",
   "execution_count": 160,
   "id": "4d669ca9",
   "metadata": {},
   "outputs": [],
   "source": [
    "i = 0\n",
    "for col in design_matrix:\n",
    "    if \"foil\" in col:     #Creating the contrast for the lure images. \n",
    "        conditions['active - Foil'][i] = 1\n",
    "    elif \"Learned_A\" in col: #Creating the contrast for the learned images.\n",
    "        conditions['active - Learned'][i] = 1\n",
    "    elif \"Learned_B\" in col: #Creating the contrast for the learned images.\n",
    "        conditions['active - Learned'][i] = 1\n",
    "    i = i+1   "
   ]
  },
  {
   "cell_type": "markdown",
   "id": "0c34febb",
   "metadata": {},
   "source": [
    "Let's have a look at the conditions and see if it worked."
   ]
  },
  {
   "cell_type": "code",
   "execution_count": 161,
   "id": "f1a27222",
   "metadata": {},
   "outputs": [
    {
     "data": {
      "text/plain": [
       "{'active - Learned': array([1, 1, 1, 1, 1, 1, 1, 1, 1, 1, 1, 1, 1, 1, 1, 1, 1, 1, 1, 1, 1, 1,\n",
       "        1, 1, 1, 1, 1, 1, 1, 1, 1, 1, 1, 1, 1, 1, 0, 0, 0, 0, 0, 0, 0, 0,\n",
       "        0, 0, 0, 0, 0, 0, 0, 0, 0, 0, 0, 0, 0, 0, 0]),\n",
       " 'active - Foil': array([0, 0, 0, 0, 0, 0, 0, 0, 0, 0, 0, 0, 0, 0, 0, 0, 0, 0, 0, 0, 0, 0,\n",
       "        0, 0, 0, 0, 0, 0, 0, 0, 0, 0, 0, 0, 0, 0, 1, 1, 1, 1, 1, 1, 0, 0,\n",
       "        0, 0, 0, 0, 0, 0, 0, 0, 0, 0, 0, 0, 0, 0, 0])}"
      ]
     },
     "execution_count": 161,
     "metadata": {},
     "output_type": "execute_result"
    }
   ],
   "source": [
    "conditions"
   ]
  },
  {
   "cell_type": "markdown",
   "id": "59f73009",
   "metadata": {},
   "source": [
    "Above, I have created some first contrasts to test the rest of the glm. If this works, I may change it according to what I wanted to do initially!\n",
    "\n",
    "Here is the contrast for the learned images:"
   ]
  },
  {
   "cell_type": "code",
   "execution_count": 173,
   "id": "233915b2",
   "metadata": {},
   "outputs": [
    {
     "data": {
      "text/plain": [
       "<AxesSubplot:label='conditions'>"
      ]
     },
     "execution_count": 173,
     "metadata": {},
     "output_type": "execute_result"
    },
    {
     "data": {
      "image/png": "[encoded data removed]",
      "text/plain": [
       "<Figure size 2360x238 with 1 Axes>"
      ]
     },
     "metadata": {},
     "output_type": "display_data"
    }
   ],
   "source": [
    "from nilearn.plotting import plot_contrast_matrix\n",
    "plot_contrast_matrix(conditions['active - Learned'], design_matrix=design_matrix)"
   ]
  },
  {
   "cell_type": "markdown",
   "id": "c27b18a5",
   "metadata": {},
   "source": [
    "Here is the contrast for the lures. "
   ]
  },
  {
   "cell_type": "code",
   "execution_count": 174,
   "id": "cc595694",
   "metadata": {},
   "outputs": [
    {
     "data": {
      "text/plain": [
       "<AxesSubplot:label='conditions'>"
      ]
     },
     "execution_count": 174,
     "metadata": {},
     "output_type": "execute_result"
    },
    {
     "data": {
      "image/png": "[encoded data removed]",
      "text/plain": [
       "<Figure size 2360x238 with 1 Axes>"
      ]
     },
     "metadata": {},
     "output_type": "display_data"
    }
   ],
   "source": [
    "from nilearn.plotting import plot_contrast_matrix\n",
    "plot_contrast_matrix(conditions['active - Foil'], design_matrix=design_matrix)"
   ]
  },
  {
   "cell_type": "code",
   "execution_count": 165,
   "id": "b3b53879",
   "metadata": {},
   "outputs": [
    {
     "data": {
      "text/plain": [
       "<nibabel.nifti1.Nifti1Image at 0x7fd548757da0>"
      ]
     },
     "execution_count": 165,
     "metadata": {},
     "output_type": "execute_result"
    }
   ],
   "source": [
    "eff_map = fmri_glm_run1_sub6.compute_contrast(conditions['active - Learned'],\n",
    "                                    output_type='effect_size')\n",
    "eff_map"
   ]
  },
  {
   "cell_type": "markdown",
   "id": "71f05c5d",
   "metadata": {},
   "source": [
    "- To be added"
   ]
  },
  {
   "cell_type": "code",
   "execution_count": 172,
   "id": "9ccc8898",
   "metadata": {},
   "outputs": [
    {
     "data": {
      "image/png": "[encoded data removed]",
      "text/plain": [
       "<Figure size 730x230 with 5 Axes>"
      ]
     },
     "metadata": {},
     "output_type": "display_data"
    }
   ],
   "source": [
    "z_map_sub6_run1 = fmri_glm_run1_sub6.compute_contrast(conditions['active - Learned'],\n",
    "                                  output_type='z_score')\n",
    "\n",
    "#Get the mean image\n",
    "from nilearn.image import mean_img\n",
    "mean_img_run1_sub6 = mean_img(fmri_img_run1_sub6_path)\n",
    "\n",
    "\n",
    "plot_stat_map(z_map_sub6_run1, bg_img=mean_img_run1_sub6, threshold=3.0,\n",
    "              display_mode='z', cut_coords=3, black_bg=True,\n",
    "              title='active -  (Z>3)')\n",
    "plt.show()"
   ]
  },
  {
   "cell_type": "markdown",
   "id": "2a3b366d",
   "metadata": {},
   "source": [
    "I need to add more above. "
   ]
  },
  {
   "cell_type": "markdown",
   "id": "8879f106",
   "metadata": {},
   "source": [
    "## Extending the GLM to the Other Runs\n",
    "\n",
    "Before I can incorporate the other runs, I need to decide on how to crossvalidate. \n",
    "The stimuli are the same across runs and across people. There are two options:\n",
    "1. Use a certain number of runs and cross-validate by using runs from every participants. \n",
    "2. Use a certain amount of participants to cross-validate. \n",
    "\n",
    "As at the moment of making this decision, it is uncertain how many people will actually be fully preprocessed, I am deciding to cross-validate by using a few runs per person. It seems like a 4 to 2 split would be justified. \n",
    "\n",
    "First I am loading all fmri-images and I am concatenating them. This first step will generate the files in one object."
   ]
  },
  {
   "cell_type": "code",
   "execution_count": 14,
   "id": "ab7b2e12",
   "metadata": {},
   "outputs": [],
   "source": [
    "import os \n",
    "fmri_img_sub_6 = []\n",
    "os.chdir(\"/home/tchaase/Documents/Universitaet/Forschungsmodul/project/data/outputs/fmri-prep_20.2.3-2/sub-06/\")\n",
    "for i in os.listdir():\n",
    "    file_name = i\n",
    "    if file_name.endswith(\"bold.nii.gz\") and \"scene\" in file_name: \n",
    "         fmri_img_sub_6.append(file_name)\n",
    "    else:\n",
    "         continue"
   ]
  },
  {
   "cell_type": "markdown",
   "id": "c88f6ecb",
   "metadata": {},
   "source": [
    "Now, I have all the image paths. But the actual images still need to be attached to each other!"
   ]
  },
  {
   "cell_type": "code",
   "execution_count": 15,
   "id": "f6967d9b",
   "metadata": {},
   "outputs": [
    {
     "data": {
      "text/plain": [
       "['sub-06_task-scene_run-07_desc-preproc_bold.nii.gz',\n",
       " 'sub-06_task-scene_run-05_desc-preproc_bold.nii.gz',\n",
       " 'sub-06_task-scene_run-04_desc-preproc_bold.nii.gz',\n",
       " 'sub-06_task-scene_run-03_desc-preproc_bold.nii.gz',\n",
       " 'sub-06_task-scene_run-06_desc-preproc_bold.nii.gz',\n",
       " 'sub-06_task-scene_run-01_desc-preproc_bold.nii.gz']"
      ]
     },
     "execution_count": 15,
     "metadata": {},
     "output_type": "execute_result"
    }
   ],
   "source": [
    "fmri_img_sub_6"
   ]
  },
  {
   "cell_type": "markdown",
   "id": "6f76764d",
   "metadata": {},
   "source": [
    "This needs to be continued, but I need to properly set everything up for one run before I can continue here.\n",
    "\n",
    "![tobecontinued](https://media.giphy.com/media/W9wHF6yVazlrW/giphy.gif)"
   ]
  },
  {
   "cell_type": "code",
   "execution_count": null,
   "id": "fd9e72d2",
   "metadata": {},
   "outputs": [],
   "source": []
  }
 ],
 "metadata": {
  "kernelspec": {
   "display_name": "Python 3 (ipykernel)",
   "language": "python",
   "name": "python3"
  },
  "language_info": {
   "codemirror_mode": {
    "name": "ipython",
    "version": 3
   },
   "file_extension": ".py",
   "mimetype": "text/x-python",
   "name": "python",
   "nbconvert_exporter": "python",
   "pygments_lexer": "ipython3",
   "version": "3.7.0"
  }
 },
 "nbformat": 4,
 "nbformat_minor": 5
}
