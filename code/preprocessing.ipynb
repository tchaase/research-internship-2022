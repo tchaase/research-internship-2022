{
 "cells": [
  {
   "cell_type": "markdown",
   "metadata": {},
   "source": [
    "# Preprocessing\n",
    "Tobias C. Haase \\\n",
    "Master's student of Psychology at [Goethe-University Frankfurt](https://www.goethe-university-frankfurt.de/en?locale=en)\n",
    "\n",
    "\n",
    "Dataset: [Abrupt hippocampal remapping signals resolution of memory interference](https://openneuro.org/datasets/ds003707/versions/1.0.0)"
   ]
  },
  {
   "cell_type": "markdown",
   "metadata": {},
   "source": [
    "## Import of the raw Data\n",
    "Using datalad, the data of the first person is imported below. "
   ]
  },
  {
   "cell_type": "code",
   "execution_count": null,
   "metadata": {},
   "outputs": [],
   "source": [
    "#! cd /home/tchaase/Documents/Universitaet/Forschungsmodul/project/data/\n",
    "#!datalad install https://github.com/OpenNeuroDatasets/ds003707.git\n",
    "#! cd ./ds003707\n",
    "!datalad get sub-01\n",
    "#!datalad get sub-*"
   ]
  },
  {
   "cell_type": "markdown",
   "metadata": {},
   "source": [
    "## Quality Controle with MRI-QC\n",
    "Using docker, I will first compute quality measures for each participant. \n",
    "More information is available [here](https://mriqc.readthedocs.io/en/latest/docker.html)\n",
    "\n",
    "This will first be done for participant one, to ensure that there is no mistake. Full data is also imported later!\n",
    "\n",
    "The following line is work in progress. Perhaps still need to swap pipepline from nipreps. "
   ]
  },
  {
   "cell_type": "code",
   "execution_count": null,
   "metadata": {},
   "outputs": [],
   "source": [
    "!docker run -it --rm -v  /home/tchaase/Documents/Universitaet/Forschungsmodul/project/data/ds003707:/data:ro \\\n",
    "        -v /home/tchaase/Documents/Universitaet/Forschungsmodul/project/data/derivatives:/out nipreps/mriqc:16.0.0 \\\n",
    "        /data /out participant --participant_label 01"
   ]
  },
  {
   "cell_type": "markdown",
   "metadata": {},
   "source": [
    "## Preprocessing via fMRI-Prep\n",
    "\n",
    "Multiple attempts to preprocess failed. In the following they are outlined. \n",
    "\n",
    "### Attempet 1"
   ]
  },
  {
   "cell_type": "code",
   "execution_count": null,
   "metadata": {},
   "outputs": [],
   "source": [
    "!docker run -it --rm -v  /home/tchaase/Documents/Universitaet/Forschungsmodul/project/data/ds003707:/data:ro \\\n",
    "-v /home/tchaase/Documents/Universitaet/Forschungsmodul/project/data/derivatives:/out -v  /home/tchaase/licenses/freesurfer/license.txt:/opt/freesurfer/license.txt nipreps/fmriprep:21.0.4  \\\n",
    "/data /out participant --participant_label 01 --error-on-aroma-warnings --ignore t2w --fs-license-file /opt/freesurfer/license.txt"
   ]
  },
  {
   "cell_type": "markdown",
   "metadata": {},
   "source": [
    "This produced an error related to the `resample` workflow. The respective error-message (bash output and error-log) is in the folder `attempt_1`.  \n",
    "\n",
    "Following this attempt, I specified `output-spaced`. Also the correct argument regarding aroma (`--use-armoa`) was inserted. \n",
    "\n",
    "\n",
    "### Attempet 2"
   ]
  },
  {
   "cell_type": "code",
   "execution_count": null,
   "metadata": {},
   "outputs": [],
   "source": [
    "!docker run -it --rm -v  /home/tchaase/Documents/Universitaet/Forschungsmodul/project/data/ds003707:/data:ro \\\n",
    "    -v /home/tchaase/Documents/Universitaet/Forschungsmodul/project/data/derivatives:/out -v  /home/tchaase/licenses/freesurfer/license.txt:/opt/freesurfer/license.txt nipreps/fmriprep:21.0.4  \\\n",
    "    /data /out participant --participant_label 01 --use-aroma  --ignore t2w --output-spaces MNI152NLin6Asym:res-2 T1w --fs-license-file /opt/freesurfer/license.txt"
   ]
  },
  {
   "cell_type": "markdown",
   "metadata": {},
   "source": [
    "This still produced errors, it was suspected it might be due to memory limitations. The respective error-message is in: `fmriprep_error_2`.\n",
    "After deleting contents of the `work-dir`, the following was attempted.\n",
    "\n",
    "### Attempt 3"
   ]
  },
  {
   "cell_type": "code",
   "execution_count": null,
   "metadata": {},
   "outputs": [],
   "source": [
    "!docker run -it --rm -m 10GB --cpus=\"3\" -v /home/tchaase/Documents/Universitaet/Forschungsmodul/project/data/ds003707:/data:ro \\\n",
    "-v /home/tchaase/Documents/Universitaet/Forschungsmodul/project/data/derivatives:/out -v  /home/tchaase/licenses/freesurfer/license.txt:/opt/freesurfer/license.txt nipreps/fmriprep:21.0.4  \\\n",
    "/data /out participant --participant_label 01 --use-aroma  --ignore t2w --output-spaces MNI152NLin6Asym:res-2 T1w --fs-license-file /opt/freesurfer/license.txt "
   ]
  },
  {
   "cell_type": "markdown",
   "metadata": {},
   "source": [
    "This lead to early abruption of the process, abrupton of the process. The respective error message is in:`fmriprep_error_3`.\n",
    "\n",
    "This error persists unless the `-m`argument is removed. As an attempt to solve this issue, the working directory was specified as shown below:\n",
    "\n",
    "### Attempt 3"
   ]
  },
  {
   "cell_type": "code",
   "execution_count": null,
   "metadata": {},
   "outputs": [],
   "source": [
    "!docker run -it --rm -m 10gb --cpus=\"3\" -v  /home/tchaase/Documents/Universitaet/Forschungsmodul/project/data/ds003707:/data:ro \\\n",
    "    -v /home/tchaase/Documents/Universitaet/Forschungsmodul/project/data/derivatives:/out -v /home/tchaase/Documents/Universitaet/Forschungsmodul/project/data/derivatives/workdir:/workdir  \\\n",
    "    -v  /home/tchaase/licenses/freesurfer/license.txt:/opt/freesurfer/license.txt nipreps/fmriprep:21.0.4  \\\n",
    "    /data /out participant --participant_label 01 --use-aroma  --ignore t2w --output-spaces MNI152NLin6Asym:res-2 T1w -w /workdir"
   ]
  },
  {
   "cell_type": "markdown",
   "metadata": {},
   "source": [
    "The respective error message is in `fmriprep_error_4`. Attempt 5 contains the same argument above without the `-m 10gb --cpus=\"3\"` arguments. \n"
   ]
  }
 ],
 "metadata": {
  "kernelspec": {
   "display_name": "Python 3 (ipykernel)",
   "language": "python",
   "name": "python3"
  },
  "language_info": {
   "codemirror_mode": {
    "name": "ipython",
    "version": 3
   },
   "file_extension": ".py",
   "mimetype": "text/x-python",
   "name": "python",
   "nbconvert_exporter": "python",
   "pygments_lexer": "ipython3",
   "version": "3.10.6"
  },
  "vscode": {
   "interpreter": {
    "hash": "916dbcbb3f70747c44a77c7bcd40155683ae19c65e1c03b4aa3499c5328201f1"
   }
  }
 },
 "nbformat": 4,
 "nbformat_minor": 2
}
