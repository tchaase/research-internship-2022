{
 "cells": [
  {
   "cell_type": "markdown",
   "metadata": {},
   "source": [
    "# Preprocessing\n",
    "Dataset: [Abrupt hippocampal remapping signals resolution of memory interference](https://openneuro.org/datasets/ds003707/versions/1.0.0) (OpenNeuro-Dataset)\n"
   ]
  },
  {
   "cell_type": "markdown",
   "metadata": {},
   "source": [
    "## Import of the raw Data\n",
    "Using datalad, the data of the first person is imported below. "
   ]
  },
  {
   "cell_type": "code",
   "execution_count": null,
   "metadata": {},
   "outputs": [],
   "source": [
    "#! cd /home/tchaase/Documents/Universitaet/Forschungsmodul/project/data/\n",
    "#!datalad install https://github.com/OpenNeuroDatasets/ds003707.git\n",
    "#! cd ./ds003707\n",
    "!datalad get sub-01\n",
    "#!datalad get sub-*"
   ]
  },
  {
   "cell_type": "markdown",
   "metadata": {},
   "source": [
    "## Quality Controle with MRI-QC\n",
    "Using docker, I will first compute quality measures for each participant. \n",
    "More information is available [here](https://mriqc.readthedocs.io/en/latest/docker.html)\n",
    "\n",
    "This will first be done for participant one, to ensure that there is no mistake. Full data is also imported later!"
   ]
  },
  {
   "cell_type": "code",
   "execution_count": 1,
   "metadata": {},
   "outputs": [
    {
     "name": "stdout",
     "output_type": "stream",
     "text": [
      "221119-18:22:57,470 cli IMPORTANT:\n",
      "\t \n",
      "    Running MRIQC version 22.0.6:\n",
      "      * BIDS dataset path: /data.\n",
      "      * Output folder: /out.\n",
      "      * Analysis levels: ['participant'].\n",
      "\n",
      "221119-18:23:34,105 cli WARNING:\n",
      "\t IMPORTANT: Anonymized quality metrics (IQMs) will be submitted to MRIQC's metrics repository. Submission of IQMs can be disabled using the ``--no-sub`` argument. Please visit https://mriqc.readthedocs.io/en/latest/dsa.html to revise MRIQC's Data Sharing Agreement.\n"
     ]
    },
    {
     "name": "stderr",
     "output_type": "stream",
     "text": [
      "IOStream.flush timed out\n"
     ]
    },
    {
     "name": "stdout",
     "output_type": "stream",
     "text": [
      "221119-18:36:55,898 nipype.workflow WARNING:\n",
      "\t [Node] Error on \"mriqc_wf.anatMRIQC.synthstrip_wf.synthstrip\" (/tmp/work/mriqc_wf/anatMRIQC/synthstrip_wf/_in_file_..data..sub-01..anat..sub-01_T1w.nii.gz/synthstrip)\n",
      "221119-18:36:56,745 nipype.workflow ERROR:\n",
      "\t Node synthstrip.a0 failed to run on host 8273b67e0250.\n",
      "221119-18:36:56,753 nipype.workflow ERROR:\n",
      "\t Saving crash info to /out/logs/crash-20221119-183656-root-synthstrip.a0-915dcfc1-b208-4328-a5f5-8d5c469500e8.txt\n",
      "Traceback (most recent call last):\n",
      "  File \"/opt/conda/lib/python3.9/site-packages/mriqc/engine/plugin.py\", line 60, in run_node\n",
      "    result[\"result\"] = node.run(updatehash=updatehash)\n",
      "  File \"/opt/conda/lib/python3.9/site-packages/nipype/pipeline/engine/nodes.py\", line 524, in run\n",
      "    result = self._run_interface(execute=True)\n",
      "  File \"/opt/conda/lib/python3.9/site-packages/nipype/pipeline/engine/nodes.py\", line 642, in _run_interface\n",
      "    return self._run_command(execute)\n",
      "  File \"/opt/conda/lib/python3.9/site-packages/nipype/pipeline/engine/nodes.py\", line 750, in _run_command\n",
      "    raise NodeExecutionError(\n",
      "nipype.pipeline.engine.nodes.NodeExecutionError: Exception raised while executing Node synthstrip.\n",
      "\n",
      "RuntimeError: subprocess exited with code 137.\n",
      "\n",
      "Traceback (most recent call last):\n",
      "  File \"/opt/conda/bin/mriqc\", line 8, in <module>\n",
      "    sys.exit(main())\n",
      "  File \"/opt/conda/lib/python3.9/site-packages/mriqc/cli/run.py\", line 159, in main\n",
      "    mriqc_wf.run(**_plugin)\n",
      "  File \"/opt/conda/lib/python3.9/site-packages/nipype/pipeline/engine/workflows.py\", line 638, in run\n",
      "    runner.run(execgraph, updatehash=updatehash, config=self.config)\n",
      "  File \"/opt/conda/lib/python3.9/site-packages/mriqc/engine/plugin.py\", line 184, in run\n",
      "    self._clean_queue(jobid, graph, result=result)\n",
      "  File \"/opt/conda/lib/python3.9/site-packages/mriqc/engine/plugin.py\", line 256, in _clean_queue\n",
      "    raise RuntimeError(\"\".join(result[\"traceback\"]))\n",
      "RuntimeError: Traceback (most recent call last):\n",
      "  File \"/opt/conda/lib/python3.9/site-packages/mriqc/engine/plugin.py\", line 60, in run_node\n",
      "    result[\"result\"] = node.run(updatehash=updatehash)\n",
      "  File \"/opt/conda/lib/python3.9/site-packages/nipype/pipeline/engine/nodes.py\", line 524, in run\n",
      "    result = self._run_interface(execute=True)\n",
      "  File \"/opt/conda/lib/python3.9/site-packages/nipype/pipeline/engine/nodes.py\", line 642, in _run_interface\n",
      "    return self._run_command(execute)\n",
      "  File \"/opt/conda/lib/python3.9/site-packages/nipype/pipeline/engine/nodes.py\", line 750, in _run_command\n",
      "    raise NodeExecutionError(\n",
      "nipype.pipeline.engine.nodes.NodeExecutionError: Exception raised while executing Node synthstrip.\n",
      "\n",
      "RuntimeError: subprocess exited with code 137.\n",
      "\n"
     ]
    }
   ],
   "source": [
    "!docker run -it --rm -v  /home/tchaase/Documents/Universitaet/Forschungsmodul/project/data/ds003707:/data:ro -v /home/tchaase/Documents/Universitaet/Forschungsmodul/project/data/derivatives:/out nipreps/mriqc:22.0.6  /data /out participant --participant_label 01"
   ]
  },
  {
   "cell_type": "markdown",
   "metadata": {},
   "source": [
    "## Preprocessing via fMRI-Prep"
   ]
  },
  {
   "cell_type": "code",
   "execution_count": 1,
   "metadata": {},
   "outputs": [
    {
     "name": "stdout",
     "output_type": "stream",
     "text": [
      "Unable to find image 'nipreps/fmriprep:21.0.4' locally\n",
      "21.0.4: Pulling from nipreps/fmriprep\n",
      "Digest: sha256:82b7cab80ff7a0ffba52c5ba807e9e8f70d5401e573f8524a5f276243da07255\n",
      "Status: Downloaded newer image for nipreps/fmriprep:21.0.4\n",
      "You are using fMRIPrep-21.0.4, and a newer version of fMRIPrep is available: 22.0.2.\n",
      "Please check out our documentation about how and when to upgrade:\n",
      "https://fmriprep.readthedocs.io/en/latest/faq.html#upgrading\n",
      "bids-validator@1.8.0\n",
      "\n",
      "\u001b[32mThis dataset appears to be BIDS compatible.\u001b[39m\n",
      "\n",
      "        \u001b[34m\u001b[4mSummary:\u001b[24m\u001b[39m                \u001b[34m\u001b[4mAvailable Tasks:\u001b[24m\u001b[39m                      \u001b[34m\u001b[4mAvailable Modalities:\u001b[24m\u001b[39m \n",
      "        37 Files, 2.39GB        objects old new identification        MRI                   \n",
      "        1 - Subject             scenes old new identification                               \n",
      "        1 - Session                                                                         \n",
      "\n",
      "\n",
      "\u001b[36m\tIf you have any questions, please post on https://neurostars.org/tags/bids.\u001b[39m\n",
      "\n",
      "221119-21:55:43,647 nipype.workflow IMPORTANT:\n",
      "\t Running fMRIPrep version 21.0.4\n",
      "\n",
      "         License NOTICE ##################################################\n",
      "         fMRIPrep 21.0.4\n",
      "         Copyright 2021 The NiPreps Developers.\n",
      "         \n",
      "         This product includes software developed by\n",
      "         the NiPreps Community (https://nipreps.org/).\n",
      "         \n",
      "         Portions of this software were developed at the Department of\n",
      "         Psychology at Stanford University, Stanford, CA, US.\n",
      "         \n",
      "         This software redistributes the versioneer Python package, which is\n",
      "         Public domain source code.\n",
      "         \n",
      "         This software is also distributed as a Docker container image.\n",
      "         The bootstraping file for the image (\"Dockerfile\") is licensed\n",
      "         under the MIT License.\n",
      "         \n",
      "         This software may be distributed through an add-on package called\n",
      "         \"Docker Wrapper\" that is under the BSD 3-clause License.\n",
      "         #################################################################\n",
      "221119-21:55:45,698 nipype.workflow IMPORTANT:\n",
      "\t Building fMRIPrep's workflow:\n",
      "           * BIDS dataset path: /data.\n",
      "           * Participant list: ['01'].\n",
      "           * Run identifier: 20221119-215513_129c7170-12c9-4b58-89ec-34b3a1b14db3.\n",
      "           * Output spaces: MNI152NLin2009cAsym:res-native.\n",
      "           * Pre-run FreeSurfer's SUBJECTS_DIR: /out/sourcedata/freesurfer.\n",
      "221119-21:55:49,873 nipype.workflow INFO:\n",
      "\t B0 field inhomogeneity map will be estimated with  the following 1 estimators: [<EstimatorType.PEPOLAR: 2>].\n",
      "221119-21:55:49,990 nipype.workflow INFO:\n",
      "\t No single-band-reference found for sub-01_task-obj_run-02_bold.nii.gz.\n",
      "221119-21:55:49,991 nipype.workflow INFO:\n",
      "\t Found usable B0-map (fieldmap) estimator(s) <auto_00000> to correct </data/sub-01/func/sub-01_task-obj_run-02_bold.nii.gz> for susceptibility-derived distortions.\n",
      "221119-21:55:50,179 nipype.workflow IMPORTANT:\n",
      "\t BOLD series will be slice-timing corrected to an offset of 0.949s.\n",
      "221119-21:55:50,482 nipype.workflow INFO:\n",
      "\t No single-band-reference found for sub-01_task-obj_run-08_bold.nii.gz.\n",
      "221119-21:55:50,482 nipype.workflow INFO:\n",
      "\t Found usable B0-map (fieldmap) estimator(s) <auto_00000> to correct </data/sub-01/func/sub-01_task-obj_run-08_bold.nii.gz> for susceptibility-derived distortions.\n",
      "221119-21:55:50,658 nipype.workflow IMPORTANT:\n",
      "\t BOLD series will be slice-timing corrected to an offset of 0.949s.\n",
      "221119-21:55:51,126 nipype.workflow INFO:\n",
      "\t No single-band-reference found for sub-01_task-scene_run-01_bold.nii.gz.\n",
      "221119-21:55:51,126 nipype.workflow INFO:\n",
      "\t Found usable B0-map (fieldmap) estimator(s) <auto_00000> to correct </data/sub-01/func/sub-01_task-scene_run-01_bold.nii.gz> for susceptibility-derived distortions.\n",
      "221119-21:55:51,401 nipype.workflow IMPORTANT:\n",
      "\t BOLD series will be slice-timing corrected to an offset of 0.949s.\n",
      "221119-21:55:51,674 nipype.workflow INFO:\n",
      "\t No single-band-reference found for sub-01_task-scene_run-03_bold.nii.gz.\n",
      "221119-21:55:51,674 nipype.workflow INFO:\n",
      "\t Found usable B0-map (fieldmap) estimator(s) <auto_00000> to correct </data/sub-01/func/sub-01_task-scene_run-03_bold.nii.gz> for susceptibility-derived distortions.\n",
      "221119-21:55:51,882 nipype.workflow IMPORTANT:\n",
      "\t BOLD series will be slice-timing corrected to an offset of 0.949s.\n",
      "221119-21:55:52,181 nipype.workflow INFO:\n",
      "\t No single-band-reference found for sub-01_task-scene_run-04_bold.nii.gz.\n",
      "221119-21:55:52,182 nipype.workflow INFO:\n",
      "\t Found usable B0-map (fieldmap) estimator(s) <auto_00000> to correct </data/sub-01/func/sub-01_task-scene_run-04_bold.nii.gz> for susceptibility-derived distortions.\n",
      "221119-21:55:52,377 nipype.workflow IMPORTANT:\n",
      "\t BOLD series will be slice-timing corrected to an offset of 0.949s.\n",
      "221119-21:55:52,685 nipype.workflow INFO:\n",
      "\t No single-band-reference found for sub-01_task-scene_run-05_bold.nii.gz.\n",
      "221119-21:55:52,686 nipype.workflow INFO:\n",
      "\t Found usable B0-map (fieldmap) estimator(s) <auto_00000> to correct </data/sub-01/func/sub-01_task-scene_run-05_bold.nii.gz> for susceptibility-derived distortions.\n",
      "221119-21:55:52,923 nipype.workflow IMPORTANT:\n",
      "\t BOLD series will be slice-timing corrected to an offset of 0.949s.\n",
      "221119-21:55:53,211 nipype.workflow INFO:\n",
      "\t No single-band-reference found for sub-01_task-scene_run-06_bold.nii.gz.\n",
      "221119-21:55:53,212 nipype.workflow INFO:\n",
      "\t Found usable B0-map (fieldmap) estimator(s) <auto_00000> to correct </data/sub-01/func/sub-01_task-scene_run-06_bold.nii.gz> for susceptibility-derived distortions.\n",
      "221119-21:55:53,461 nipype.workflow IMPORTANT:\n",
      "\t BOLD series will be slice-timing corrected to an offset of 0.949s.\n",
      "221119-21:55:53,746 nipype.workflow INFO:\n",
      "\t No single-band-reference found for sub-01_task-scene_run-07_bold.nii.gz.\n",
      "221119-21:55:53,746 nipype.workflow INFO:\n",
      "\t Found usable B0-map (fieldmap) estimator(s) <auto_00000> to correct </data/sub-01/func/sub-01_task-scene_run-07_bold.nii.gz> for susceptibility-derived distortions.\n",
      "221119-21:55:54,135 nipype.workflow IMPORTANT:\n",
      "\t BOLD series will be slice-timing corrected to an offset of 0.949s.\n",
      "221119-21:55:54,606 nipype.workflow INFO:\n",
      "\t Setting-up fieldmap \"auto_00000\" (EstimatorType.PEPOLAR) with <sub-01_dir-AP_epi.nii.gz, sub-01_dir-PA_epi.nii.gz>\n",
      "221119-21:56:02,139 nipype.workflow CRITICAL:\n",
      "\t ERROR: a valid license file is required for FreeSurfer to run. fMRIPrep looked for an existing license file at several paths, in this order: 1) command line argument ``--fs-license-file``; 2) ``$FS_LICENSE`` environment variable; and 3) the ``$FREESURFER_HOME/license.txt`` path. Get it (for free) by registering at https://surfer.nmr.mgh.harvard.edu/registration.html\n"
     ]
    }
   ],
   "source": [
    "!docker run -it --rm -v  /home/tchaase/Documents/Universitaet/Forschungsmodul/project/data/ds003707:/data:ro -v /home/tchaase/Documents/Universitaet/Forschungsmodul/project/data/derivatives:/out nipreps/fmriprep:21.0.4  /data /out participant --participant_label 01"
   ]
  },
  {
   "cell_type": "markdown",
   "metadata": {},
   "source": [
    "This genereates a license error. To-do: Find way to properly insert the license?"
   ]
  },
  {
   "cell_type": "code",
   "execution_count": 6,
   "metadata": {},
   "outputs": [
    {
     "name": "stdout",
     "output_type": "stream",
     "text": [
      "You are using fMRIPrep-21.0.4, and a newer version of fMRIPrep is available: 22.0.2.\n",
      "Please check out our documentation about how and when to upgrade:\n",
      "https://fmriprep.readthedocs.io/en/latest/faq.html#upgrading\n",
      "usage: fmriprep [-h] [--version] [--skip_bids_validation]\n",
      "                [--participant-label PARTICIPANT_LABEL [PARTICIPANT_LABEL ...]]\n",
      "                [-t TASK_ID] [--echo-idx ECHO_IDX] [--bids-filter-file FILE]\n",
      "                [--anat-derivatives PATH] [--bids-database-dir PATH]\n",
      "                [--nprocs NPROCS] [--omp-nthreads OMP_NTHREADS]\n",
      "                [--mem MEMORY_MB] [--low-mem] [--use-plugin FILE]\n",
      "                [--anat-only] [--boilerplate_only] [--md-only-boilerplate]\n",
      "                [--error-on-aroma-warnings] [-v]\n",
      "                [--ignore {fieldmaps,slicetiming,sbref,t2w,flair} [{fieldmaps,slicetiming,sbref,t2w,flair} ...]]\n",
      "                [--longitudinal]\n",
      "                [--output-spaces [OUTPUT_SPACES [OUTPUT_SPACES ...]]]\n",
      "                [--me-output-echos] [--bold2t1w-init {register,header}]\n",
      "                [--bold2t1w-dof {6,9,12}] [--force-bbr] [--force-no-bbr]\n",
      "                [--medial-surface-nan] [--slice-time-ref SLICE_TIME_REF]\n",
      "                [--dummy-scans DUMMY_SCANS] [--random-seed _RANDOM_SEED]\n",
      "                [--use-aroma]\n",
      "                [--aroma-melodic-dimensionality AROMA_MELODIC_DIM]\n",
      "                [--return-all-components]\n",
      "                [--fd-spike-threshold REGRESSORS_FD_TH]\n",
      "                [--dvars-spike-threshold REGRESSORS_DVARS_TH]\n",
      "                [--skull-strip-template SKULL_STRIP_TEMPLATE]\n",
      "                [--skull-strip-fixed-seed]\n",
      "                [--skull-strip-t1w {auto,skip,force}] [--fmap-bspline]\n",
      "                [--fmap-no-demean] [--topup-max-vols TOPUP_MAX_VOLS]\n",
      "                [--use-syn-sdc [{warn,error}]] [--force-syn]\n",
      "                [--fs-license-file FILE] [--fs-subjects-dir PATH]\n",
      "                [--no-submm-recon] [--cifti-output [{91k,170k}] |\n",
      "                --fs-no-reconall] [--output-layout {bids,legacy}]\n",
      "                [-w WORK_DIR] [--clean-workdir] [--resource-monitor]\n",
      "                [--reports-only] [--config-file FILE] [--write-graph]\n",
      "                [--stop-on-first-crash] [--notrack]\n",
      "                [--debug {compcor,fieldmaps,all} [{compcor,fieldmaps,all} ...]]\n",
      "                [--sloppy]\n",
      "                bids_dir output_dir {participant}\n",
      "fmriprep: error: Path does not exist: </home/tchaase/licenses/freesurfer/license.txt>.\n"
     ]
    }
   ],
   "source": [
    "!docker run -it --rm -v  /home/tchaase/Documents/Universitaet/Forschungsmodul/project/data/ds003707:/data:ro -v /home/tchaase/Documents/Universitaet/Forschungsmodul/project/data/derivatives:/out nipreps/fmriprep:21.0.4  /data /out participant --participant_label 01 --fs-license-file /home/tchaase/licenses/freesurfer/license.txt"
   ]
  }
 ],
 "metadata": {
  "kernelspec": {
   "display_name": "Python 3 (ipykernel)",
   "language": "python",
   "name": "python3"
  },
  "language_info": {
   "codemirror_mode": {
    "name": "ipython",
    "version": 3
   },
   "file_extension": ".py",
   "mimetype": "text/x-python",
   "name": "python",
   "nbconvert_exporter": "python",
   "pygments_lexer": "ipython3",
   "version": "3.10.6"
  },
  "vscode": {
   "interpreter": {
    "hash": "916dbcbb3f70747c44a77c7bcd40155683ae19c65e1c03b4aa3499c5328201f1"
   }
  }
 },
 "nbformat": 4,
 "nbformat_minor": 2
}
