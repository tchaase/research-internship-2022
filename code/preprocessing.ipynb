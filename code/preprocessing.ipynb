{
 "cells": [
  {
   "cell_type": "markdown",
   "metadata": {},
   "source": [
    "# Preprocessing\n",
    "Dataset: (Abrupt hippocampal remapping signals resolution of memory interference (OpenNeuro-Dataset))[https://openneuro.org/datasets/ds003707/versions/1.0.0]\n"
   ]
  },
  {
   "cell_type": "markdown",
   "metadata": {},
   "source": [
    "## Import of the raw data\n",
    "Using datalad, the data of the first person is imported below. "
   ]
  },
  {
   "cell_type": "code",
   "execution_count": null,
   "metadata": {},
   "outputs": [],
   "source": [
    "#! cd /home/tchaase/Documents/Universitaet/Forschungsmodul/project/data/\n",
    "#!datalad install https://github.com/OpenNeuroDatasets/ds003707.git\n",
    "#! cd ./ds003707\n",
    "!datalad get sub-01\n",
    "#!datalad get sub-*"
   ]
  },
  {
   "cell_type": "markdown",
   "metadata": {},
   "source": [
    "## Quality controle with MRI-QC\n",
    "Using docker, I will first compute quality measures for each participant. \n",
    "More information is available [here](https://mriqc.readthedocs.io/en/latest/docker.html)\n",
    "\n",
    "This will first be done for participant one, to ensure that there is no mistake. Full data is also imported later!"
   ]
  },
  {
   "cell_type": "code",
   "execution_count": 1,
   "metadata": {},
   "outputs": [
    {
     "name": "stdout",
     "output_type": "stream",
     "text": [
      "221119-18:22:57,470 cli IMPORTANT:\n",
      "\t \n",
      "    Running MRIQC version 22.0.6:\n",
      "      * BIDS dataset path: /data.\n",
      "      * Output folder: /out.\n",
      "      * Analysis levels: ['participant'].\n",
      "\n",
      "221119-18:23:34,105 cli WARNING:\n",
      "\t IMPORTANT: Anonymized quality metrics (IQMs) will be submitted to MRIQC's metrics repository. Submission of IQMs can be disabled using the ``--no-sub`` argument. Please visit https://mriqc.readthedocs.io/en/latest/dsa.html to revise MRIQC's Data Sharing Agreement.\n"
     ]
    },
    {
     "name": "stderr",
     "output_type": "stream",
     "text": [
      "IOStream.flush timed out\n"
     ]
    },
    {
     "name": "stdout",
     "output_type": "stream",
     "text": [
      "221119-18:36:55,898 nipype.workflow WARNING:\n",
      "\t [Node] Error on \"mriqc_wf.anatMRIQC.synthstrip_wf.synthstrip\" (/tmp/work/mriqc_wf/anatMRIQC/synthstrip_wf/_in_file_..data..sub-01..anat..sub-01_T1w.nii.gz/synthstrip)\n",
      "221119-18:36:56,745 nipype.workflow ERROR:\n",
      "\t Node synthstrip.a0 failed to run on host 8273b67e0250.\n",
      "221119-18:36:56,753 nipype.workflow ERROR:\n",
      "\t Saving crash info to /out/logs/crash-20221119-183656-root-synthstrip.a0-915dcfc1-b208-4328-a5f5-8d5c469500e8.txt\n",
      "Traceback (most recent call last):\n",
      "  File \"/opt/conda/lib/python3.9/site-packages/mriqc/engine/plugin.py\", line 60, in run_node\n",
      "    result[\"result\"] = node.run(updatehash=updatehash)\n",
      "  File \"/opt/conda/lib/python3.9/site-packages/nipype/pipeline/engine/nodes.py\", line 524, in run\n",
      "    result = self._run_interface(execute=True)\n",
      "  File \"/opt/conda/lib/python3.9/site-packages/nipype/pipeline/engine/nodes.py\", line 642, in _run_interface\n",
      "    return self._run_command(execute)\n",
      "  File \"/opt/conda/lib/python3.9/site-packages/nipype/pipeline/engine/nodes.py\", line 750, in _run_command\n",
      "    raise NodeExecutionError(\n",
      "nipype.pipeline.engine.nodes.NodeExecutionError: Exception raised while executing Node synthstrip.\n",
      "\n",
      "RuntimeError: subprocess exited with code 137.\n",
      "\n",
      "Traceback (most recent call last):\n",
      "  File \"/opt/conda/bin/mriqc\", line 8, in <module>\n",
      "    sys.exit(main())\n",
      "  File \"/opt/conda/lib/python3.9/site-packages/mriqc/cli/run.py\", line 159, in main\n",
      "    mriqc_wf.run(**_plugin)\n",
      "  File \"/opt/conda/lib/python3.9/site-packages/nipype/pipeline/engine/workflows.py\", line 638, in run\n",
      "    runner.run(execgraph, updatehash=updatehash, config=self.config)\n",
      "  File \"/opt/conda/lib/python3.9/site-packages/mriqc/engine/plugin.py\", line 184, in run\n",
      "    self._clean_queue(jobid, graph, result=result)\n",
      "  File \"/opt/conda/lib/python3.9/site-packages/mriqc/engine/plugin.py\", line 256, in _clean_queue\n",
      "    raise RuntimeError(\"\".join(result[\"traceback\"]))\n",
      "RuntimeError: Traceback (most recent call last):\n",
      "  File \"/opt/conda/lib/python3.9/site-packages/mriqc/engine/plugin.py\", line 60, in run_node\n",
      "    result[\"result\"] = node.run(updatehash=updatehash)\n",
      "  File \"/opt/conda/lib/python3.9/site-packages/nipype/pipeline/engine/nodes.py\", line 524, in run\n",
      "    result = self._run_interface(execute=True)\n",
      "  File \"/opt/conda/lib/python3.9/site-packages/nipype/pipeline/engine/nodes.py\", line 642, in _run_interface\n",
      "    return self._run_command(execute)\n",
      "  File \"/opt/conda/lib/python3.9/site-packages/nipype/pipeline/engine/nodes.py\", line 750, in _run_command\n",
      "    raise NodeExecutionError(\n",
      "nipype.pipeline.engine.nodes.NodeExecutionError: Exception raised while executing Node synthstrip.\n",
      "\n",
      "RuntimeError: subprocess exited with code 137.\n",
      "\n"
     ]
    }
   ],
   "source": [
    "!docker run -it --rm -v  /home/tchaase/Documents/Universitaet/Forschungsmodul/project/data/ds003707:/data:ro -v /home/tchaase/Documents/Universitaet/Forschungsmodul/project/data/derivatives:/out nipreps/mriqc:22.0.6  /data /out participant --participant_label 01\n",
    "\n"
   ]
  }
 ],
 "metadata": {
  "kernelspec": {
   "display_name": "Python 3 (ipykernel)",
   "language": "python",
   "name": "python3"
  },
  "language_info": {
   "codemirror_mode": {
    "name": "ipython",
    "version": 3
   },
   "file_extension": ".py",
   "mimetype": "text/x-python",
   "name": "python",
   "nbconvert_exporter": "python",
   "pygments_lexer": "ipython3",
   "version": "3.9.12"
  },
  "vscode": {
   "interpreter": {
    "hash": "916dbcbb3f70747c44a77c7bcd40155683ae19c65e1c03b4aa3499c5328201f1"
   }
  }
 },
 "nbformat": 4,
 "nbformat_minor": 2
}
