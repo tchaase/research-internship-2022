{
 "cells": [
  {
   "cell_type": "markdown",
   "id": "9cd22765",
   "metadata": {},
   "source": [
    "# Data Exploration\n",
    "Tobias C. Haase \\\n",
    "Master's student of Psychology at [Goethe-University Frankfurt](https://www.goethe-university-frankfurt.de/en?locale=en)\n",
    "\n",
    "\n",
    "Dataset: [Abrupt hippocampal remapping signals resolution of memory interference](https://openneuro.org/datasets/ds003707/versions/1.0.0)\n"
   ]
  },
  {
   "cell_type": "code",
   "execution_count": 17,
   "id": "ae87981f",
   "metadata": {},
   "outputs": [
    {
     "name": "stdout",
     "output_type": "stream",
     "text": [
      "BIDS Layout: ...ngsmodul/project/data/ds003707 | Subjects: 35 | Sessions: 0 | Runs: 280\n"
     ]
    }
   ],
   "source": [
    "#Import of the BIDSLayout to help exploration of the BIDS dataset. \n",
    "from bids import BIDSLayout\n",
    "\n",
    "#The path to the BIDS dataset. \n",
    "data_path = \"/home/tchaase/Documents/Universitaet/Forschungsmodul/project/data/ds003707/\"\n",
    "\n",
    "#Application of the BIDSLayout function, followed by printing it.\n",
    "layout = BIDSLayout(data_path) \n",
    "print(layout)"
   ]
  },
  {
   "cell_type": "markdown",
   "id": "4c15ceb0",
   "metadata": {},
   "source": [
    "The dataset contains 36 participants. As the the dorsal part of participant 33's cortex is cut-off, this participants was excluded: "
   ]
  },
  {
   "cell_type": "code",
   "execution_count": 15,
   "id": "09c30872",
   "metadata": {},
   "outputs": [
    {
     "name": "stdout",
     "output_type": "stream",
     "text": [
      "BIDS Layout: ...ngsmodul/project/data/ds003707 | Subjects: 35 | Sessions: 0 | Runs: 280\n"
     ]
    }
   ],
   "source": [
    "#!rm -r /home/tchaase/Documents/Universitaet/Forschungsmodul/project/data/ds003707/sub-33\n",
    "\n",
    "#This leads to an updated sample size of:\n",
    "layout = BIDSLayout(data_path) \n",
    "print(layout)"
   ]
  },
  {
   "cell_type": "markdown",
   "id": "c338a600",
   "metadata": {},
   "source": [
    "Firstly, examplary exploration will be done with subject 01. "
   ]
  },
  {
   "cell_type": "code",
   "execution_count": 24,
   "id": "ee3818a7",
   "metadata": {},
   "outputs": [
    {
     "name": "stdout",
     "output_type": "stream",
     "text": [
      "The total number of files for subject 01 is: 32.\n",
      "The total amount of files is: 1125.\n",
      "There are the following tasks: ['scene', 'obj']\n"
     ]
    }
   ],
   "source": [
    "files_sub1 = layout.get(subject = \"01\")\n",
    "print(\"The total number of files for subject 01 is: {}.\".format(len(files_sub1)))\n",
    "all_files = layout.get()\n",
    "print(\"The total amount of files is: {}.\".format(len(all_files)))\n",
    "\n",
    "#What are the task?\n",
    "tasks = layout.get_tasks()\n",
    "print(\"There are the following tasks: %s\" %tasks)"
   ]
  },
  {
   "cell_type": "markdown",
   "id": "4a51d051",
   "metadata": {},
   "source": [
    "There are therefore 32 files. \n",
    "\n",
    "![tobecontinued](https://media.giphy.com/media/W9wHF6yVazlrW/giphy.gif)"
   ]
  }
 ],
 "metadata": {
  "kernelspec": {
   "display_name": "Python 3 (ipykernel)",
   "language": "python",
   "name": "python3"
  },
  "language_info": {
   "codemirror_mode": {
    "name": "ipython",
    "version": 3
   },
   "file_extension": ".py",
   "mimetype": "text/x-python",
   "name": "python",
   "nbconvert_exporter": "python",
   "pygments_lexer": "ipython3",
   "version": "3.10.6"
  },
  "vscode": {
   "interpreter": {
    "hash": "916dbcbb3f70747c44a77c7bcd40155683ae19c65e1c03b4aa3499c5328201f1"
   }
  }
 },
 "nbformat": 4,
 "nbformat_minor": 5
}
