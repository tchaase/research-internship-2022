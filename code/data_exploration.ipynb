{
 "cells": [
  {
   "cell_type": "markdown",
   "id": "9cd22765",
   "metadata": {},
   "source": [
    "# Data Exploration\n",
    "Tobias C. Haase \\\n",
    "Master's student of Psychology at [Goethe-University Frankfurt](https://www.goethe-university-frankfurt.de/en?locale=en)\n",
    "\n",
    "\n",
    "Dataset: [Abrupt hippocampal remapping signals resolution of memory interference](https://openneuro.org/datasets/ds003707/versions/1.0.0)\n"
   ]
  },
  {
   "cell_type": "markdown",
   "id": "76002943",
   "metadata": {},
   "source": [
    "# Structure of the Data Exploration Notebook\n",
    "In the first part I will outline the general structure of the data set. Using the `pybids` module, the structure of the data set will be explored. \n",
    "\n",
    "Following this, using one subject as an example, the anatomical and functional files will be explored. \n",
    "\n",
    "# Exploration of the Dataset"
   ]
  },
  {
   "cell_type": "code",
   "execution_count": 3,
   "id": "ae87981f",
   "metadata": {},
   "outputs": [
    {
     "name": "stdout",
     "output_type": "stream",
     "text": [
      "BIDS Layout: ...ngsmodul/project/data/ds003707 | Subjects: 36 | Sessions: 0 | Runs: 288\n"
     ]
    }
   ],
   "source": [
    "#Import of the BIDSLayout to help exploration of the BIDS dataset. \n",
    "from bids import BIDSLayout\n",
    "\n",
    "#The path to the BIDS dataset. \n",
    "data_path = \"/home/tchaase/Documents/Universitaet/Forschungsmodul/project/data/ds003707/\"\n",
    "\n",
    "#Application of the BIDSLayout function, followed by printing it.\n",
    "layout = BIDSLayout(data_path) \n",
    "print(layout)\n",
    "\n",
    "#Import os module to allow easier execution of os-related task\n",
    "import os"
   ]
  },
  {
   "cell_type": "markdown",
   "id": "4c15ceb0",
   "metadata": {},
   "source": [
    "There is only one session, here shown as zero sessions. Overall, there are 8 runs per participant, equaling 288 runs overall.\n",
    "\n",
    "The dataset originally contained 36 participants. As the the dorsal part of participant 33's cortex within the t1w image is cut-off, this participants was excluded: "
   ]
  },
  {
   "cell_type": "code",
   "execution_count": 4,
   "id": "09c30872",
   "metadata": {},
   "outputs": [
    {
     "name": "stdout",
     "output_type": "stream",
     "text": [
      "BIDS Layout: ...ngsmodul/project/data/ds003707 | Subjects: 36 | Sessions: 0 | Runs: 288\n"
     ]
    }
   ],
   "source": [
    "#!rm -r /home/tchaase/Documents/Universitaet/Forschungsmodul/project/data/ds003707/sub-33\n",
    "#This leads to an updated sample size of:\n",
    "layout = BIDSLayout(data_path) \n",
    "print(layout)"
   ]
  },
  {
   "cell_type": "markdown",
   "id": "c338a600",
   "metadata": {},
   "source": [
    "The updated sample size is therefore 35.\n",
    "\n",
    "There are 8 runs, these are related to two different tasks:"
   ]
  },
  {
   "cell_type": "code",
   "execution_count": 15,
   "id": "d5123c5e",
   "metadata": {},
   "outputs": [
    {
     "name": "stdout",
     "output_type": "stream",
     "text": [
      "There are the following tasks: ['scene', 'obj']\n"
     ]
    },
    {
     "data": {
      "text/plain": [
       "[]"
      ]
     },
     "execution_count": 15,
     "metadata": {},
     "output_type": "execute_result"
    }
   ],
   "source": [
    "#What are the task?\n",
    "tasks = layout.get_tasks()\n",
    "print(\"There are the following tasks: %s\" %tasks)\n",
    "\n",
    "#How many sessions are there?\n",
    "layout.get_session()"
   ]
  },
  {
   "cell_type": "markdown",
   "id": "fee14fba",
   "metadata": {},
   "source": [
    "The tasks are shown above. Only a single sessions exists, but the command gives an empty output. \n",
    "\n",
    "Overall for each participant there are several files:"
   ]
  },
  {
   "cell_type": "code",
   "execution_count": 8,
   "id": "ee3818a7",
   "metadata": {},
   "outputs": [
    {
     "name": "stdout",
     "output_type": "stream",
     "text": [
      "The total number of files for subject 10 is: 32.\n",
      "The total amount of files is: 1157.\n"
     ]
    },
    {
     "data": {
      "text/plain": [
       "['/home/tchaase/Documents/Universitaet/Forschungsmodul/project/data/ds003707/sub-10/anat/sub-10_T1w.json',\n",
       " '/home/tchaase/Documents/Universitaet/Forschungsmodul/project/data/ds003707/sub-10/anat/sub-10_T1w.nii.gz',\n",
       " '/home/tchaase/Documents/Universitaet/Forschungsmodul/project/data/ds003707/sub-10/anat/sub-10_T2w.json',\n",
       " '/home/tchaase/Documents/Universitaet/Forschungsmodul/project/data/ds003707/sub-10/anat/sub-10_T2w.nii.gz',\n",
       " '/home/tchaase/Documents/Universitaet/Forschungsmodul/project/data/ds003707/sub-10/fmap/sub-10_dir-AP_epi.json',\n",
       " '/home/tchaase/Documents/Universitaet/Forschungsmodul/project/data/ds003707/sub-10/fmap/sub-10_dir-AP_epi.nii.gz',\n",
       " '/home/tchaase/Documents/Universitaet/Forschungsmodul/project/data/ds003707/sub-10/fmap/sub-10_dir-PA_epi.json',\n",
       " '/home/tchaase/Documents/Universitaet/Forschungsmodul/project/data/ds003707/sub-10/fmap/sub-10_dir-PA_epi.nii.gz',\n",
       " '/home/tchaase/Documents/Universitaet/Forschungsmodul/project/data/ds003707/sub-10/func/sub-10_task-obj_run-02_bold.json',\n",
       " '/home/tchaase/Documents/Universitaet/Forschungsmodul/project/data/ds003707/sub-10/func/sub-10_task-obj_run-02_bold.nii.gz']"
      ]
     },
     "execution_count": 8,
     "metadata": {},
     "output_type": "execute_result"
    }
   ],
   "source": [
    "files_sub1 = layout.get(subject = \"10\")\n",
    "print(\"The total number of files for subject 10 is: {}.\".format(len(files_sub1)))\n",
    "all_files = layout.get()\n",
    "print(\"The total amount of files is: {}.\".format(len(all_files)))\n"
   ]
  },
  {
   "cell_type": "markdown",
   "id": "4a51d051",
   "metadata": {},
   "source": [
    "There are 32 files for the first subject.These include files of the following file types: `.json`, `.nii.gz` and event files with a `.tsv` ending. \n",
    "\n",
    "There are both anatomic T1w and T2w images available, as well as functional images for both tasks.\n",
    "\n",
    "The respective files for each task are:"
   ]
  },
  {
   "cell_type": "code",
   "execution_count": 28,
   "id": "8294c768",
   "metadata": {},
   "outputs": [
    {
     "name": "stdout",
     "output_type": "stream",
     "text": [
      "['/home/tchaase/Documents/Universitaet/Forschungsmodul/project/data/ds003707/sub-10/func/sub-10_task-scene_run-01_bold.nii.gz',\n",
      " '/home/tchaase/Documents/Universitaet/Forschungsmodul/project/data/ds003707/sub-10/func/sub-10_task-scene_run-03_bold.nii.gz',\n",
      " '/home/tchaase/Documents/Universitaet/Forschungsmodul/project/data/ds003707/sub-10/func/sub-10_task-scene_run-04_bold.nii.gz',\n",
      " '/home/tchaase/Documents/Universitaet/Forschungsmodul/project/data/ds003707/sub-10/func/sub-10_task-scene_run-05_bold.nii.gz',\n",
      " '/home/tchaase/Documents/Universitaet/Forschungsmodul/project/data/ds003707/sub-10/func/sub-10_task-scene_run-06_bold.nii.gz',\n",
      " '/home/tchaase/Documents/Universitaet/Forschungsmodul/project/data/ds003707/sub-10/func/sub-10_task-scene_run-07_bold.nii.gz']\n",
      "There are 6 runs for the task scene.\n"
     ]
    }
   ],
   "source": [
    "sub_10_scene = layout.get(subject='10', return_type='file', task=\"scene\", extension='nii.gz')\n",
    "\n",
    "#Importing a package to make output more readable. \n",
    "from  pprint import pprint\n",
    "pprint(sub_10_scene)\n",
    "print(\"There are {} runs for the task scene.\" .format(len(sub_10_scene)))"
   ]
  },
  {
   "cell_type": "markdown",
   "id": "d0ca4987",
   "metadata": {},
   "source": [
    "It is apparent, that the 6 runs for the scene task are not continously numbered. Why this is the case will be explained later!\n",
    "\n",
    "Now to the object task:"
   ]
  },
  {
   "cell_type": "code",
   "execution_count": 30,
   "id": "eb7cf764",
   "metadata": {},
   "outputs": [
    {
     "name": "stdout",
     "output_type": "stream",
     "text": [
      "['/home/tchaase/Documents/Universitaet/Forschungsmodul/project/data/ds003707/sub-10/func/sub-10_task-obj_run-02_bold.nii.gz',\n",
      " '/home/tchaase/Documents/Universitaet/Forschungsmodul/project/data/ds003707/sub-10/func/sub-10_task-obj_run-08_bold.nii.gz']\n",
      "There are 2 runs for the task scene.\n"
     ]
    }
   ],
   "source": [
    "sub_10_object = layout.get(subject='10', return_type='file', task=\"obj\", extension='nii.gz')\n",
    "\n",
    "#Importing a package to make output more readable. \n",
    "from  pprint import pprint\n",
    "pprint(sub_10_object)\n",
    "print(\"There are {} runs for the task scene.\" .format(len(sub_10_object)))"
   ]
  },
  {
   "cell_type": "markdown",
   "id": "0bdd942f",
   "metadata": {},
   "source": [
    "Now that the basic structure is known, what is there to explore within the dataset? Which `entities` does pybids detect?"
   ]
  },
  {
   "cell_type": "code",
   "execution_count": 41,
   "id": "782ef5c2",
   "metadata": {},
   "outputs": [
    {
     "data": {
      "text/plain": [
       "{'subject': <Entity subject (pattern=[/\\\\]+sub-([a-zA-Z0-9]+), dtype=<class 'str'>)>,\n",
       " 'session': <Entity session (pattern=[_/\\\\]+ses-([a-zA-Z0-9]+), dtype=<class 'str'>)>,\n",
       " 'task': <Entity task (pattern=[_/\\\\]+task-([a-zA-Z0-9]+), dtype=<class 'str'>)>,\n",
       " 'acquisition': <Entity acquisition (pattern=[_/\\\\]+acq-([a-zA-Z0-9]+), dtype=<class 'str'>)>,\n",
       " 'ceagent': <Entity ceagent (pattern=[_/\\\\]+ce-([a-zA-Z0-9]+), dtype=<class 'str'>)>,\n",
       " 'reconstruction': <Entity reconstruction (pattern=[_/\\\\]+rec-([a-zA-Z0-9]+), dtype=<class 'str'>)>,\n",
       " 'direction': <Entity direction (pattern=[_/\\\\]+dir-([a-zA-Z0-9]+), dtype=<class 'str'>)>,\n",
       " 'run': <Entity run (pattern=[_/\\\\]+run-(\\d+), dtype=<class 'bids.layout.utils.PaddedInt'>)>,\n",
       " 'proc': <Entity proc (pattern=[_/\\\\]+proc-([a-zA-Z0-9]+), dtype=<class 'str'>)>,\n",
       " 'modality': <Entity modality (pattern=[_/\\\\]+mod-([a-zA-Z0-9]+), dtype=<class 'str'>)>,\n",
       " 'echo': <Entity echo (pattern=[_/\\\\]+echo-([0-9]+), dtype=<class 'str'>)>,\n",
       " 'flip': <Entity flip (pattern=[_/\\\\]+flip-([0-9]+), dtype=<class 'str'>)>,\n",
       " 'inv': <Entity inv (pattern=[_/\\\\]+inv-([0-9]+), dtype=<class 'str'>)>,\n",
       " 'mt': <Entity mt (pattern=[_/\\\\]+mt-(on|off), dtype=<class 'str'>)>,\n",
       " 'part': <Entity part (pattern=[_/\\\\]+part-(imag|mag|phase|real), dtype=<class 'str'>)>,\n",
       " 'recording': <Entity recording (pattern=[_/\\\\]+recording-([a-zA-Z0-9]+), dtype=<class 'str'>)>,\n",
       " 'space': <Entity space (pattern=[_/\\\\]+space-([a-zA-Z0-9]+), dtype=<class 'str'>)>,\n",
       " 'suffix': <Entity suffix (pattern=[._]*([a-zA-Z0-9]*?)\\.[^/\\\\]+$, dtype=<class 'str'>)>,\n",
       " 'scans': <Entity scans (pattern=(.*\\_scans.tsv)$, dtype=<class 'str'>)>,\n",
       " 'fmap': <Entity fmap (pattern=(phasediff|magnitude[1-2]|phase[1-2]|fieldmap|epi)\\.nii, dtype=<class 'str'>)>,\n",
       " 'datatype': <Entity datatype (pattern=[/\\\\]+(anat|beh|dwi|eeg|fmap|func|ieeg|meg|perf)[/\\\\]+, dtype=<class 'str'>)>,\n",
       " 'extension': <Entity extension (pattern=[._]*[a-zA-Z0-9]*?(\\.[^/\\\\]+)$, dtype=<class 'str'>)>,\n",
       " 'Modality': <Entity Modality (pattern=None, dtype=<class 'str'>)>,\n",
       " 'MagneticFieldStrength': <Entity MagneticFieldStrength (pattern=None, dtype=<class 'str'>)>,\n",
       " 'Manufacturer': <Entity Manufacturer (pattern=None, dtype=<class 'str'>)>,\n",
       " 'ManufacturersModelName': <Entity ManufacturersModelName (pattern=None, dtype=<class 'str'>)>,\n",
       " 'InstitutionName': <Entity InstitutionName (pattern=None, dtype=<class 'str'>)>,\n",
       " 'InstitutionalDepartmentName': <Entity InstitutionalDepartmentName (pattern=None, dtype=<class 'str'>)>,\n",
       " 'InstitutionAddress': <Entity InstitutionAddress (pattern=None, dtype=<class 'str'>)>,\n",
       " 'DeviceSerialNumber': <Entity DeviceSerialNumber (pattern=None, dtype=<class 'str'>)>,\n",
       " 'StationName': <Entity StationName (pattern=None, dtype=<class 'str'>)>,\n",
       " 'BodyPartExamined': <Entity BodyPartExamined (pattern=None, dtype=<class 'str'>)>,\n",
       " 'PatientPosition': <Entity PatientPosition (pattern=None, dtype=<class 'str'>)>,\n",
       " 'ProcedureStepDescription': <Entity ProcedureStepDescription (pattern=None, dtype=<class 'str'>)>,\n",
       " 'SoftwareVersions': <Entity SoftwareVersions (pattern=None, dtype=<class 'str'>)>,\n",
       " 'MRAcquisitionType': <Entity MRAcquisitionType (pattern=None, dtype=<class 'str'>)>,\n",
       " 'SeriesDescription': <Entity SeriesDescription (pattern=None, dtype=<class 'str'>)>,\n",
       " 'ProtocolName': <Entity ProtocolName (pattern=None, dtype=<class 'str'>)>,\n",
       " 'ScanningSequence': <Entity ScanningSequence (pattern=None, dtype=<class 'str'>)>,\n",
       " 'SequenceVariant': <Entity SequenceVariant (pattern=None, dtype=<class 'str'>)>,\n",
       " 'ScanOptions': <Entity ScanOptions (pattern=None, dtype=<class 'str'>)>,\n",
       " 'SequenceName': <Entity SequenceName (pattern=None, dtype=<class 'str'>)>,\n",
       " 'ImageType': <Entity ImageType (pattern=None, dtype=<class 'str'>)>,\n",
       " 'SeriesNumber': <Entity SeriesNumber (pattern=None, dtype=<class 'str'>)>,\n",
       " 'AcquisitionTime': <Entity AcquisitionTime (pattern=None, dtype=<class 'str'>)>,\n",
       " 'AcquisitionNumber': <Entity AcquisitionNumber (pattern=None, dtype=<class 'str'>)>,\n",
       " 'SliceThickness': <Entity SliceThickness (pattern=None, dtype=<class 'str'>)>,\n",
       " 'SAR': <Entity SAR (pattern=None, dtype=<class 'str'>)>,\n",
       " 'EchoTime': <Entity EchoTime (pattern=None, dtype=<class 'str'>)>,\n",
       " 'RepetitionTime': <Entity RepetitionTime (pattern=None, dtype=<class 'str'>)>,\n",
       " 'InversionTime': <Entity InversionTime (pattern=None, dtype=<class 'str'>)>,\n",
       " 'FlipAngle': <Entity FlipAngle (pattern=None, dtype=<class 'str'>)>,\n",
       " 'PartialFourier': <Entity PartialFourier (pattern=None, dtype=<class 'str'>)>,\n",
       " 'BaseResolution': <Entity BaseResolution (pattern=None, dtype=<class 'str'>)>,\n",
       " 'ShimSetting': <Entity ShimSetting (pattern=None, dtype=<class 'str'>)>,\n",
       " 'TxRefAmp': <Entity TxRefAmp (pattern=None, dtype=<class 'str'>)>,\n",
       " 'PhaseResolution': <Entity PhaseResolution (pattern=None, dtype=<class 'str'>)>,\n",
       " 'ReceiveCoilName': <Entity ReceiveCoilName (pattern=None, dtype=<class 'str'>)>,\n",
       " 'ReceiveCoilActiveElements': <Entity ReceiveCoilActiveElements (pattern=None, dtype=<class 'str'>)>,\n",
       " 'PulseSequenceDetails': <Entity PulseSequenceDetails (pattern=None, dtype=<class 'str'>)>,\n",
       " 'ConsistencyInfo': <Entity ConsistencyInfo (pattern=None, dtype=<class 'str'>)>,\n",
       " 'PercentPhaseFOV': <Entity PercentPhaseFOV (pattern=None, dtype=<class 'str'>)>,\n",
       " 'PhaseEncodingSteps': <Entity PhaseEncodingSteps (pattern=None, dtype=<class 'str'>)>,\n",
       " 'AcquisitionMatrixPE': <Entity AcquisitionMatrixPE (pattern=None, dtype=<class 'str'>)>,\n",
       " 'ReconMatrixPE': <Entity ReconMatrixPE (pattern=None, dtype=<class 'str'>)>,\n",
       " 'ParallelReductionFactorInPlane': <Entity ParallelReductionFactorInPlane (pattern=None, dtype=<class 'str'>)>,\n",
       " 'PixelBandwidth': <Entity PixelBandwidth (pattern=None, dtype=<class 'str'>)>,\n",
       " 'DwellTime': <Entity DwellTime (pattern=None, dtype=<class 'str'>)>,\n",
       " 'ImageOrientationPatientDICOM': <Entity ImageOrientationPatientDICOM (pattern=None, dtype=<class 'str'>)>,\n",
       " 'InPlanePhaseEncodingDirectionDICOM': <Entity InPlanePhaseEncodingDirectionDICOM (pattern=None, dtype=<class 'str'>)>,\n",
       " 'ConversionSoftware': <Entity ConversionSoftware (pattern=None, dtype=<class 'str'>)>,\n",
       " 'ConversionSoftwareVersion': <Entity ConversionSoftwareVersion (pattern=None, dtype=<class 'str'>)>,\n",
       " 'SpacingBetweenSlices': <Entity SpacingBetweenSlices (pattern=None, dtype=<class 'str'>)>,\n",
       " 'EchoTrainLength': <Entity EchoTrainLength (pattern=None, dtype=<class 'str'>)>,\n",
       " 'PhaseEncodingDirection': <Entity PhaseEncodingDirection (pattern=None, dtype=<class 'str'>)>,\n",
       " 'BandwidthPerPixelPhaseEncode': <Entity BandwidthPerPixelPhaseEncode (pattern=None, dtype=<class 'str'>)>,\n",
       " 'EffectiveEchoSpacing': <Entity EffectiveEchoSpacing (pattern=None, dtype=<class 'str'>)>,\n",
       " 'DerivedVendorReportedEchoSpacing': <Entity DerivedVendorReportedEchoSpacing (pattern=None, dtype=<class 'str'>)>,\n",
       " 'TotalReadoutTime': <Entity TotalReadoutTime (pattern=None, dtype=<class 'str'>)>,\n",
       " 'SliceTiming': <Entity SliceTiming (pattern=None, dtype=<class 'str'>)>,\n",
       " 'IntendedFor': <Entity IntendedFor (pattern=None, dtype=<class 'str'>)>,\n",
       " 'TaskName': <Entity TaskName (pattern=None, dtype=<class 'str'>)>,\n",
       " 'ImageComments': <Entity ImageComments (pattern=None, dtype=<class 'str'>)>,\n",
       " 'MultibandAccelerationFactor': <Entity MultibandAccelerationFactor (pattern=None, dtype=<class 'str'>)>}"
      ]
     },
     "execution_count": 41,
     "metadata": {},
     "output_type": "execute_result"
    }
   ],
   "source": [
    "layout.get_entities()\n"
   ]
  },
  {
   "cell_type": "markdown",
   "id": "8b82b757",
   "metadata": {},
   "source": [
    "This is a lot of output - but basically there are a lot of potential parameters that can be explored. \n",
    "\n",
    "Slice timing,repition time etc. will later be explored in more detail. In the following section, a overview report is generated for the different the anatomic images, as well as the functional runs. "
   ]
  },
  {
   "cell_type": "code",
   "execution_count": 44,
   "id": "e8df82a2",
   "metadata": {},
   "outputs": [
    {
     "name": "stderr",
     "output_type": "stream",
     "text": [
      "/home/tchaase/miniconda3/envs/msc5neuro/lib/python3.7/site-packages/bids/reports/parsing.py:387: UserWarning: sub-04_dir-AP_epi.nii.gz not yet supported.\n",
      "  warnings.warn(group[0].filename + \" not yet supported.\")\n",
      "/home/tchaase/miniconda3/envs/msc5neuro/lib/python3.7/site-packages/bids/reports/parsing.py:387: UserWarning: sub-02_dir-AP_epi.nii.gz not yet supported.\n",
      "  warnings.warn(group[0].filename + \" not yet supported.\")\n",
      "/home/tchaase/miniconda3/envs/msc5neuro/lib/python3.7/site-packages/bids/reports/parsing.py:387: UserWarning: sub-26_dir-AP_epi.nii.gz not yet supported.\n",
      "  warnings.warn(group[0].filename + \" not yet supported.\")\n",
      "/home/tchaase/miniconda3/envs/msc5neuro/lib/python3.7/site-packages/bids/reports/parsing.py:387: UserWarning: sub-34_dir-AP_epi.nii.gz not yet supported.\n",
      "  warnings.warn(group[0].filename + \" not yet supported.\")\n",
      "/home/tchaase/miniconda3/envs/msc5neuro/lib/python3.7/site-packages/bids/reports/parsing.py:387: UserWarning: sub-12_dir-AP_epi.nii.gz not yet supported.\n",
      "  warnings.warn(group[0].filename + \" not yet supported.\")\n",
      "/home/tchaase/miniconda3/envs/msc5neuro/lib/python3.7/site-packages/bids/reports/parsing.py:387: UserWarning: sub-18_dir-AP_epi.nii.gz not yet supported.\n",
      "  warnings.warn(group[0].filename + \" not yet supported.\")\n",
      "/home/tchaase/miniconda3/envs/msc5neuro/lib/python3.7/site-packages/bids/reports/parsing.py:387: UserWarning: sub-21_dir-AP_epi.nii.gz not yet supported.\n",
      "  warnings.warn(group[0].filename + \" not yet supported.\")\n",
      "/home/tchaase/miniconda3/envs/msc5neuro/lib/python3.7/site-packages/bids/reports/parsing.py:387: UserWarning: sub-22_dir-AP_epi.nii.gz not yet supported.\n",
      "  warnings.warn(group[0].filename + \" not yet supported.\")\n",
      "/home/tchaase/miniconda3/envs/msc5neuro/lib/python3.7/site-packages/bids/reports/parsing.py:387: UserWarning: sub-14_dir-AP_epi.nii.gz not yet supported.\n",
      "  warnings.warn(group[0].filename + \" not yet supported.\")\n",
      "/home/tchaase/miniconda3/envs/msc5neuro/lib/python3.7/site-packages/bids/reports/parsing.py:387: UserWarning: sub-35_dir-AP_epi.nii.gz not yet supported.\n",
      "  warnings.warn(group[0].filename + \" not yet supported.\")\n",
      "/home/tchaase/miniconda3/envs/msc5neuro/lib/python3.7/site-packages/bids/reports/parsing.py:387: UserWarning: sub-27_dir-AP_epi.nii.gz not yet supported.\n",
      "  warnings.warn(group[0].filename + \" not yet supported.\")\n",
      "/home/tchaase/miniconda3/envs/msc5neuro/lib/python3.7/site-packages/bids/reports/parsing.py:387: UserWarning: sub-08_dir-AP_epi.nii.gz not yet supported.\n",
      "  warnings.warn(group[0].filename + \" not yet supported.\")\n",
      "/home/tchaase/miniconda3/envs/msc5neuro/lib/python3.7/site-packages/bids/reports/parsing.py:387: UserWarning: sub-15_dir-AP_epi.nii.gz not yet supported.\n",
      "  warnings.warn(group[0].filename + \" not yet supported.\")\n",
      "/home/tchaase/miniconda3/envs/msc5neuro/lib/python3.7/site-packages/bids/reports/parsing.py:387: UserWarning: sub-30_dir-AP_epi.nii.gz not yet supported.\n",
      "  warnings.warn(group[0].filename + \" not yet supported.\")\n",
      "/home/tchaase/miniconda3/envs/msc5neuro/lib/python3.7/site-packages/bids/reports/parsing.py:387: UserWarning: sub-28_dir-AP_epi.nii.gz not yet supported.\n",
      "  warnings.warn(group[0].filename + \" not yet supported.\")\n",
      "/home/tchaase/miniconda3/envs/msc5neuro/lib/python3.7/site-packages/bids/reports/parsing.py:387: UserWarning: sub-29_dir-AP_epi.nii.gz not yet supported.\n",
      "  warnings.warn(group[0].filename + \" not yet supported.\")\n",
      "/home/tchaase/miniconda3/envs/msc5neuro/lib/python3.7/site-packages/bids/reports/parsing.py:387: UserWarning: sub-07_dir-AP_epi.nii.gz not yet supported.\n",
      "  warnings.warn(group[0].filename + \" not yet supported.\")\n",
      "/home/tchaase/miniconda3/envs/msc5neuro/lib/python3.7/site-packages/bids/reports/parsing.py:387: UserWarning: sub-13_dir-AP_epi.nii.gz not yet supported.\n",
      "  warnings.warn(group[0].filename + \" not yet supported.\")\n",
      "/home/tchaase/miniconda3/envs/msc5neuro/lib/python3.7/site-packages/bids/reports/parsing.py:387: UserWarning: sub-24_dir-AP_epi.nii.gz not yet supported.\n",
      "  warnings.warn(group[0].filename + \" not yet supported.\")\n",
      "/home/tchaase/miniconda3/envs/msc5neuro/lib/python3.7/site-packages/bids/reports/parsing.py:387: UserWarning: sub-36_dir-AP_epi.nii.gz not yet supported.\n",
      "  warnings.warn(group[0].filename + \" not yet supported.\")\n",
      "/home/tchaase/miniconda3/envs/msc5neuro/lib/python3.7/site-packages/bids/reports/parsing.py:387: UserWarning: sub-09_dir-AP_epi.nii.gz not yet supported.\n",
      "  warnings.warn(group[0].filename + \" not yet supported.\")\n",
      "/home/tchaase/miniconda3/envs/msc5neuro/lib/python3.7/site-packages/bids/reports/parsing.py:387: UserWarning: sub-32_dir-AP_epi.nii.gz not yet supported.\n",
      "  warnings.warn(group[0].filename + \" not yet supported.\")\n",
      "/home/tchaase/miniconda3/envs/msc5neuro/lib/python3.7/site-packages/bids/reports/parsing.py:387: UserWarning: sub-03_dir-AP_epi.nii.gz not yet supported.\n",
      "  warnings.warn(group[0].filename + \" not yet supported.\")\n",
      "/home/tchaase/miniconda3/envs/msc5neuro/lib/python3.7/site-packages/bids/reports/parsing.py:387: UserWarning: sub-25_dir-AP_epi.nii.gz not yet supported.\n",
      "  warnings.warn(group[0].filename + \" not yet supported.\")\n",
      "/home/tchaase/miniconda3/envs/msc5neuro/lib/python3.7/site-packages/bids/reports/parsing.py:387: UserWarning: sub-10_dir-AP_epi.nii.gz not yet supported.\n",
      "  warnings.warn(group[0].filename + \" not yet supported.\")\n",
      "/home/tchaase/miniconda3/envs/msc5neuro/lib/python3.7/site-packages/bids/reports/parsing.py:387: UserWarning: sub-11_dir-AP_epi.nii.gz not yet supported.\n",
      "  warnings.warn(group[0].filename + \" not yet supported.\")\n",
      "/home/tchaase/miniconda3/envs/msc5neuro/lib/python3.7/site-packages/bids/reports/parsing.py:387: UserWarning: sub-19_dir-AP_epi.nii.gz not yet supported.\n",
      "  warnings.warn(group[0].filename + \" not yet supported.\")\n",
      "/home/tchaase/miniconda3/envs/msc5neuro/lib/python3.7/site-packages/bids/reports/parsing.py:387: UserWarning: sub-17_dir-AP_epi.nii.gz not yet supported.\n",
      "  warnings.warn(group[0].filename + \" not yet supported.\")\n",
      "/home/tchaase/miniconda3/envs/msc5neuro/lib/python3.7/site-packages/bids/reports/parsing.py:387: UserWarning: sub-33_dir-AP_epi.nii.gz not yet supported.\n",
      "  warnings.warn(group[0].filename + \" not yet supported.\")\n",
      "/home/tchaase/miniconda3/envs/msc5neuro/lib/python3.7/site-packages/bids/reports/parsing.py:387: UserWarning: sub-23_dir-AP_epi.nii.gz not yet supported.\n",
      "  warnings.warn(group[0].filename + \" not yet supported.\")\n",
      "/home/tchaase/miniconda3/envs/msc5neuro/lib/python3.7/site-packages/bids/reports/parsing.py:387: UserWarning: sub-16_dir-AP_epi.nii.gz not yet supported.\n",
      "  warnings.warn(group[0].filename + \" not yet supported.\")\n",
      "/home/tchaase/miniconda3/envs/msc5neuro/lib/python3.7/site-packages/bids/reports/parsing.py:387: UserWarning: sub-05_dir-AP_epi.nii.gz not yet supported.\n",
      "  warnings.warn(group[0].filename + \" not yet supported.\")\n",
      "/home/tchaase/miniconda3/envs/msc5neuro/lib/python3.7/site-packages/bids/reports/parsing.py:387: UserWarning: sub-20_dir-AP_epi.nii.gz not yet supported.\n",
      "  warnings.warn(group[0].filename + \" not yet supported.\")\n",
      "/home/tchaase/miniconda3/envs/msc5neuro/lib/python3.7/site-packages/bids/reports/parsing.py:387: UserWarning: sub-06_dir-AP_epi.nii.gz not yet supported.\n",
      "  warnings.warn(group[0].filename + \" not yet supported.\")\n"
     ]
    },
    {
     "name": "stdout",
     "output_type": "stream",
     "text": [
      "Number of patterns detected: 1\n",
      "Remember to double-check everything and to replace <deg> with a degree symbol.\n"
     ]
    },
    {
     "name": "stderr",
     "output_type": "stream",
     "text": [
      "/home/tchaase/miniconda3/envs/msc5neuro/lib/python3.7/site-packages/bids/reports/parsing.py:387: UserWarning: sub-31_dir-AP_epi.nii.gz not yet supported.\n",
      "  warnings.warn(group[0].filename + \" not yet supported.\")\n",
      "/home/tchaase/miniconda3/envs/msc5neuro/lib/python3.7/site-packages/bids/reports/parsing.py:387: UserWarning: sub-01_dir-AP_epi.nii.gz not yet supported.\n",
      "  warnings.warn(group[0].filename + \" not yet supported.\")\n"
     ]
    }
   ],
   "source": [
    "from bids.reports import BIDSReport  #Import of the 'report' function. \n",
    "report = BIDSReport(layout)\n",
    "\n",
    "counter = report.generate()"
   ]
  },
  {
   "cell_type": "code",
   "execution_count": 48,
   "id": "3edef3f0",
   "metadata": {},
   "outputs": [
    {
     "name": "stdout",
     "output_type": "stream",
     "text": [
      "In session None, MR data were acquired using a 3-Tesla Siemens Skyra MRI scanner.\n",
      "\tOne run of T1-weighted segmented k-space, spoiled, and MAG prepared gradient recalled and inversion recovery (GR/IR) single-echo structural MRI data were collected (256 slices; repetition time, TR=2500ms; echo time, TE=3.43ms; flip angle, FA=7<deg>; field of view, FOV=176x256mm; matrix size=176x256; voxel size=1x1x1mm).\n",
      "\tOne run of T2-weighted segmented k-space, spoiled, and oversampling phase spin echo (SE) single-echo structural MRI data were collected (65 slices; repetition time, TR=13520ms; echo time, TE=88ms; flip angle, FA=150<deg>; field of view, FOV=220x220mm; matrix size=512x512; voxel size=0.43x0.43x2mm).\n",
      "\tTwo runs of objects old new identification segmented k-space and steady state echo planar (EP) single-echo fMRI data were collected (72 slices in interleaved ascending order; repetition time, TR=2000ms; echo time, TE=36ms; flip angle, FA=90<deg>; field of view, FOV=211x211mm; matrix size=124x124; voxel size=1.7x1.7x1.7mm; MB factor=3; in-plane acceleration factor=2). Run duration was 5:54 minutes, during which 177 volumes were acquired.\n",
      "\tSix runs of scenes old new identification segmented k-space and steady state echo planar (EP) single-echo fMRI data were collected (72 slices in interleaved ascending order; repetition time, TR=2000ms; echo time, TE=36ms; flip angle, FA=90<deg>; field of view, FOV=211x211mm; matrix size=124x124; voxel size=1.7x1.7x1.7mm; MB factor=3; in-plane acceleration factor=2). Run duration was 5:54 minutes, during which 177 volumes were acquired.\n",
      "\n",
      "Dicoms were converted to NIfTI-1 format using dcm2niix (v1.0.20171215 GCC5.3.1). This section was (in part) generated automatically using pybids (0.15.1).\n"
     ]
    }
   ],
   "source": [
    "main_report = counter.most_common()[0][0]\n",
    "print(main_report)"
   ]
  },
  {
   "cell_type": "markdown",
   "id": "c5b6bdfb",
   "metadata": {},
   "source": [
    "For all image aquisitions a 3T Siemens scanner was used.\n",
    "\n",
    "Besides basic metrics, it also becomes apparent that the slice number for the T2w image is low - this might be related to it being a partial image. As similar number of slices was aquired for the functional image. \n",
    "\n",
    "There are furthermore 8 functional runs, split into the two tasks, as explained before. Both were obtained using single echo imaging. More about those in a bit!\n",
    "\n"
   ]
  },
  {
   "cell_type": "markdown",
   "id": "07fec639",
   "metadata": {},
   "source": [
    "## Anatomic Exploration\n",
    "\n",
    "For the anatomic exploration, only the T1w images will be looked at in detail. \n",
    "\n",
    "Firstly, the necessary modules will be loaded:"
   ]
  },
  {
   "cell_type": "code",
   "execution_count": null,
   "id": "d917ddd8",
   "metadata": {},
   "outputs": [],
   "source": [
    "from nilearn.plotting import plot_stat_map, plot_anat, plot_img, show, plot_glass_brain"
   ]
  },
  {
   "cell_type": "markdown",
   "id": "1c2f0c1a",
   "metadata": {},
   "source": []
  },
  {
   "cell_type": "markdown",
   "id": "0ad38f67",
   "metadata": {},
   "source": [
    "![tobecontinued](https://media.giphy.com/media/W9wHF6yVazlrW/giphy.gif)"
   ]
  }
 ],
 "metadata": {
  "kernelspec": {
   "display_name": "Python 3 (ipykernel)",
   "language": "python",
   "name": "python3"
  },
  "language_info": {
   "codemirror_mode": {
    "name": "ipython",
    "version": 3
   },
   "file_extension": ".py",
   "mimetype": "text/x-python",
   "name": "python",
   "nbconvert_exporter": "python",
   "pygments_lexer": "ipython3",
   "version": "3.7.0"
  },
  "vscode": {
   "interpreter": {
    "hash": "916dbcbb3f70747c44a77c7bcd40155683ae19c65e1c03b4aa3499c5328201f1"
   }
  }
 },
 "nbformat": 4,
 "nbformat_minor": 5
}
