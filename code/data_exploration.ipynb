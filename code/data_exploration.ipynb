{
 "cells": [
  {
   "cell_type": "markdown",
   "id": "9cd22765",
   "metadata": {},
   "source": [
    "# Data Exploration\n",
    "Dataset: [Abrupt hippocampal remapping signals resolution of memory interference](https://openneuro.org/datasets/ds003707/versions/1.0.0) (OpenNeuro-Dataset)\n"
   ]
  },
  {
   "cell_type": "code",
   "execution_count": null,
   "id": "ae87981f",
   "metadata": {},
   "outputs": [],
   "source": [
    "#Import of the BIDSLayout to help exploration of the BIDS dataset. \n",
    "from bids import BIDSLayout\n"
   ]
  }
 ],
 "metadata": {
  "kernelspec": {
   "display_name": "Python 3 (ipykernel)",
   "language": "python",
   "name": "python3"
  },
  "language_info": {
   "codemirror_mode": {
    "name": "ipython",
    "version": 3
   },
   "file_extension": ".py",
   "mimetype": "text/x-python",
   "name": "python",
   "nbconvert_exporter": "python",
   "pygments_lexer": "ipython3",
   "version": "3.7.0"
  }
 },
 "nbformat": 4,
 "nbformat_minor": 5
}
